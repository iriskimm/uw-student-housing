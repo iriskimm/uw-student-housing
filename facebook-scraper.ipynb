{
 "cells": [
  {
   "cell_type": "code",
   "execution_count": 1,
   "id": "e812c3bb",
   "metadata": {
    "scrolled": true
   },
   "outputs": [],
   "source": [
    "import selenium\n",
    "from selenium import webdriver\n",
    "from selenium.webdriver.common.by import By\n",
    "from selenium.webdriver.chrome.options import Options\n",
    "from selenium.webdriver.support import expected_conditions as EC\n",
    "from selenium.webdriver.support.wait import WebDriverWait\n",
    "from time import sleep\n",
    "from bs4 import BeautifulSoup\n",
    "import re\n",
    "import pandas as pd\n",
    "import numpy as np\n",
    "import matplotlib.pyplot as plt\n",
    "import csv\n",
    "import config"
   ]
  },
  {
   "cell_type": "code",
   "execution_count": 2,
   "id": "cdf9b1d8",
   "metadata": {},
   "outputs": [],
   "source": [
    "# disable notifications\n",
    "chrome_options = Options()\n",
    "chrome_options.add_argument(\"--disable-notifications\")"
   ]
  },
  {
   "cell_type": "code",
   "execution_count": 3,
   "id": "b50047b9",
   "metadata": {
    "scrolled": true
   },
   "outputs": [],
   "source": [
    "# open facebook\n",
    "driver = webdriver.Chrome(options=chrome_options) \n",
    "driver.get(\"https://www.facebook.com\")"
   ]
  },
  {
   "cell_type": "code",
   "execution_count": 4,
   "id": "8def0495",
   "metadata": {},
   "outputs": [],
   "source": [
    "# Log in using my credentials\n",
    "username = WebDriverWait(driver, 5).until(EC.element_to_be_clickable((By.CSS_SELECTOR, \"input[name='email']\")))\n",
    "password = WebDriverWait(driver, 5).until(EC.element_to_be_clickable((By.CSS_SELECTOR, \"input[name='pass']\")))\n",
    "\n",
    "# my_username and my_password should be replaced with your own unique values\n",
    "username.clear()\n",
    "username.send_keys(config.my_username)\n",
    "password.clear()\n",
    "password.send_keys(config.my_password)\n",
    "button = WebDriverWait(driver, 2).until(EC.element_to_be_clickable((By.CSS_SELECTOR, \"button[type='submit']\"))).click()\n",
    "sleep(10)"
   ]
  },
  {
   "cell_type": "code",
   "execution_count": 5,
   "id": "8178c28d",
   "metadata": {},
   "outputs": [],
   "source": [
    "# Open the facebook group (Student Housing in Waterloo)\n",
    "driver.get('https://www.facebook.com/groups/110354088989367')\n",
    "sleep(10)"
   ]
  },
  {
   "cell_type": "code",
   "execution_count": 6,
   "id": "1dd8ee6f",
   "metadata": {},
   "outputs": [],
   "source": [
    "# scroll down 40 times to gather more posts\n",
    "for j in range(0,40):\n",
    "    driver.execute_script(\"window.scrollTo(0, document.body.scrollHeight);\")\n",
    "    sleep(10)"
   ]
  },
  {
   "cell_type": "code",
   "execution_count": 7,
   "id": "886cc5ea",
   "metadata": {},
   "outputs": [],
   "source": [
    "# store all posts' html text in all_posts\n",
    "soup = BeautifulSoup(driver.page_source, \"html.parser\")\n",
    "all_posts = soup.find_all('div', attrs={'class':'du4w35lb k4urcfbm l9j0dhe7 sjgh65i0'})"
   ]
  },
  {
   "cell_type": "code",
   "execution_count": 8,
   "id": "7cea5d6e",
   "metadata": {},
   "outputs": [
    {
     "data": {
      "text/plain": [
       "247"
      ]
     },
     "execution_count": 8,
     "metadata": {},
     "output_type": "execute_result"
    }
   ],
   "source": [
    "len(all_posts) # should check that we have 200+ posts"
   ]
  },
  {
   "cell_type": "code",
   "execution_count": 9,
   "id": "f43e9ad9",
   "metadata": {},
   "outputs": [],
   "source": [
    "# This function takes in the message from each post, and returns the number of bedrooms specified in the post\n",
    "def get_bedrooms(my_str):\n",
    "    d1 = re.search('([^ \\r\\n]+) beds?', my_str, re.IGNORECASE)\n",
    "    d2 = re.search('([^ \\r\\n]+) bedrooms?', my_str, re.IGNORECASE)\n",
    "    if d1:\n",
    "        beds = d1.group(0)\n",
    "    elif d2:\n",
    "        beds = d2.group(0)\n",
    "    else:\n",
    "        beds = 1 # one bedroom by default if not specified\n",
    "    return beds"
   ]
  },
  {
   "cell_type": "code",
   "execution_count": 10,
   "id": "01624bca",
   "metadata": {},
   "outputs": [
    {
     "name": "stdout",
     "output_type": "stream",
     "text": [
      "bedroom: 2 Beds\n"
     ]
    }
   ],
   "source": [
    "# testing the above function get_bedrooms: \n",
    "msg = '2 Beds 1 Bath - Apartment203 Albert St, Waterloo, ON N2L 3T4, Canada'\n",
    "print('bedroom:', get_bedrooms(msg))"
   ]
  },
  {
   "cell_type": "code",
   "execution_count": 11,
   "id": "7ba725ee",
   "metadata": {},
   "outputs": [],
   "source": [
    "# This function takes in the message from each post, and returns a Boolean value to indicate whether the post is\n",
    "#   looking for a housing (True), or is in search for a housing (False)\n",
    "def is_looking(my_str):\n",
    "    my_str = my_str.lower()\n",
    "    if 'looking'in my_str:\n",
    "        return True\n",
    "    elif 'available' or 'offering' in my_str:\n",
    "        return False\n",
    "    else:\n",
    "        return None"
   ]
  },
  {
   "cell_type": "code",
   "execution_count": 12,
   "id": "5a54987e",
   "metadata": {},
   "outputs": [],
   "source": [
    "# initializes lists that will later be columns for a new dataframe\n",
    "price_list = []\n",
    "bedrooms_list = []\n",
    "isLookingFor_list = []"
   ]
  },
  {
   "cell_type": "code",
   "execution_count": 13,
   "id": "2be0d148",
   "metadata": {
    "scrolled": true
   },
   "outputs": [],
   "source": [
    "# parses text from each posting and append appropriate values to the lists\n",
    "for post in all_posts: \n",
    "    price_text = post.find('span', attrs={'class': 'sqxagodl'}).find('div').getText()\n",
    "    try: \n",
    "        price = ''.join([n for n in price_text.split()[0] if n.isdigit()])\n",
    "        if price == '':\n",
    "            price = 0\n",
    "    except: \n",
    "        price = 0\n",
    "    \n",
    "    message_text = post.find('div', attrs={'data-ad-comet-preview':'message'})\n",
    "    try:\n",
    "        message = str(message_text.getText())\n",
    "    except:\n",
    "        message = ''\n",
    "\n",
    "    bedroom_text = get_bedrooms(message)\n",
    "    try: \n",
    "        bedroom = ''.join([n for n in str(bedroom_text).split()[0] if n.isdigit()])\n",
    "        if bedroom == '':\n",
    "            bedroom = 1\n",
    "    except:\n",
    "        bedroom = 1 # 1 bedroom by default if not specified\n",
    "\n",
    "    if int(price) >= 1600: # if price is above 1600, assume that it's total price for the entire unit\n",
    "        price = int(price) // int(bedroom)\n",
    "\n",
    "    price_list.append(int(price))\n",
    "    bedrooms_list.append(int(bedroom))\n",
    "    isLookingFor_list.append(is_looking(message))"
   ]
  },
  {
   "cell_type": "code",
   "execution_count": 14,
   "id": "957b9893",
   "metadata": {
    "scrolled": false
   },
   "outputs": [
    {
     "data": {
      "text/plain": [
       "([900, 1400, 1, 1, 1250, 600, 1000, 860, 1150, 746],\n",
       " [1, 2, 1, 1, 1, 1, 1, 1, 1, 1],\n",
       " [True, False, True, True, True, True, True, True, True, True])"
      ]
     },
     "execution_count": 14,
     "metadata": {},
     "output_type": "execute_result"
    }
   ],
   "source": [
    "# a quick check to see if data was parsed correctly\n",
    "price_list[:10], bedrooms_list[:10], isLookingFor_list[:10]"
   ]
  },
  {
   "cell_type": "code",
   "execution_count": 15,
   "id": "15b21a55",
   "metadata": {},
   "outputs": [
    {
     "data": {
      "text/plain": [
       "(247, 247)"
      ]
     },
     "execution_count": 15,
     "metadata": {},
     "output_type": "execute_result"
    }
   ],
   "source": [
    "len(price_list), len(bedrooms_list)"
   ]
  },
  {
   "cell_type": "code",
   "execution_count": 16,
   "id": "11b931c1",
   "metadata": {},
   "outputs": [],
   "source": [
    "data = {'price': price_list, 'bedroom': bedrooms_list, 'isLookingFor': isLookingFor_list}"
   ]
  },
  {
   "cell_type": "code",
   "execution_count": 17,
   "id": "a568432b",
   "metadata": {
    "scrolled": false
   },
   "outputs": [
    {
     "data": {
      "text/html": [
       "<div>\n",
       "<style scoped>\n",
       "    .dataframe tbody tr th:only-of-type {\n",
       "        vertical-align: middle;\n",
       "    }\n",
       "\n",
       "    .dataframe tbody tr th {\n",
       "        vertical-align: top;\n",
       "    }\n",
       "\n",
       "    .dataframe thead th {\n",
       "        text-align: right;\n",
       "    }\n",
       "</style>\n",
       "<table border=\"1\" class=\"dataframe\">\n",
       "  <thead>\n",
       "    <tr style=\"text-align: right;\">\n",
       "      <th></th>\n",
       "      <th>price</th>\n",
       "      <th>bedroom</th>\n",
       "      <th>isLookingFor</th>\n",
       "    </tr>\n",
       "  </thead>\n",
       "  <tbody>\n",
       "    <tr>\n",
       "      <th>0</th>\n",
       "      <td>900</td>\n",
       "      <td>1</td>\n",
       "      <td>True</td>\n",
       "    </tr>\n",
       "    <tr>\n",
       "      <th>1</th>\n",
       "      <td>1400</td>\n",
       "      <td>2</td>\n",
       "      <td>False</td>\n",
       "    </tr>\n",
       "    <tr>\n",
       "      <th>2</th>\n",
       "      <td>1</td>\n",
       "      <td>1</td>\n",
       "      <td>True</td>\n",
       "    </tr>\n",
       "    <tr>\n",
       "      <th>3</th>\n",
       "      <td>1</td>\n",
       "      <td>1</td>\n",
       "      <td>True</td>\n",
       "    </tr>\n",
       "    <tr>\n",
       "      <th>4</th>\n",
       "      <td>1250</td>\n",
       "      <td>1</td>\n",
       "      <td>True</td>\n",
       "    </tr>\n",
       "  </tbody>\n",
       "</table>\n",
       "</div>"
      ],
      "text/plain": [
       "   price  bedroom  isLookingFor\n",
       "0    900        1          True\n",
       "1   1400        2         False\n",
       "2      1        1          True\n",
       "3      1        1          True\n",
       "4   1250        1          True"
      ]
     },
     "execution_count": 17,
     "metadata": {},
     "output_type": "execute_result"
    }
   ],
   "source": [
    "# a new dataframe to store price, number of bedrooms, and a boolean value isLookingFor\n",
    "df = pd.DataFrame(data)\n",
    "df.to_excel('housing_list.xlsx', index=False)\n",
    "df.head()"
   ]
  },
  {
   "cell_type": "markdown",
   "id": "f34e40ef",
   "metadata": {},
   "source": [
    "#### To read from the excel file instead of scraping from facebook each time"
   ]
  },
  {
   "cell_type": "code",
   "execution_count": 18,
   "id": "e278103c",
   "metadata": {},
   "outputs": [],
   "source": [
    "df = pd.read_excel('housing_list.xlsx')"
   ]
  },
  {
   "cell_type": "code",
   "execution_count": 19,
   "id": "9c6510df",
   "metadata": {},
   "outputs": [],
   "source": [
    "# ignore rows with extraordinary values (since people might be either putting numbers like $1, $100, $123456, $999999, or might be looking for a parking spot at a lower price)\n",
    "df.drop(df[(df.price < 300) | (df.price > 2000)].index, inplace=True)\n",
    "df.drop(df[df.bedroom > 7].index, inplace=True) # assume there are no more bedrooms than 7"
   ]
  },
  {
   "cell_type": "code",
   "execution_count": 20,
   "id": "9aee208f",
   "metadata": {},
   "outputs": [
    {
     "data": {
      "text/html": [
       "<div>\n",
       "<style scoped>\n",
       "    .dataframe tbody tr th:only-of-type {\n",
       "        vertical-align: middle;\n",
       "    }\n",
       "\n",
       "    .dataframe tbody tr th {\n",
       "        vertical-align: top;\n",
       "    }\n",
       "\n",
       "    .dataframe thead tr th {\n",
       "        text-align: left;\n",
       "    }\n",
       "\n",
       "    .dataframe thead tr:last-of-type th {\n",
       "        text-align: right;\n",
       "    }\n",
       "</style>\n",
       "<table border=\"1\" class=\"dataframe\">\n",
       "  <thead>\n",
       "    <tr>\n",
       "      <th></th>\n",
       "      <th colspan=\"8\" halign=\"left\">price</th>\n",
       "      <th colspan=\"8\" halign=\"left\">bedroom</th>\n",
       "    </tr>\n",
       "    <tr>\n",
       "      <th></th>\n",
       "      <th>count</th>\n",
       "      <th>mean</th>\n",
       "      <th>std</th>\n",
       "      <th>min</th>\n",
       "      <th>25%</th>\n",
       "      <th>50%</th>\n",
       "      <th>75%</th>\n",
       "      <th>max</th>\n",
       "      <th>count</th>\n",
       "      <th>mean</th>\n",
       "      <th>std</th>\n",
       "      <th>min</th>\n",
       "      <th>25%</th>\n",
       "      <th>50%</th>\n",
       "      <th>75%</th>\n",
       "      <th>max</th>\n",
       "    </tr>\n",
       "    <tr>\n",
       "      <th>isLookingFor</th>\n",
       "      <th></th>\n",
       "      <th></th>\n",
       "      <th></th>\n",
       "      <th></th>\n",
       "      <th></th>\n",
       "      <th></th>\n",
       "      <th></th>\n",
       "      <th></th>\n",
       "      <th></th>\n",
       "      <th></th>\n",
       "      <th></th>\n",
       "      <th></th>\n",
       "      <th></th>\n",
       "      <th></th>\n",
       "      <th></th>\n",
       "      <th></th>\n",
       "    </tr>\n",
       "  </thead>\n",
       "  <tbody>\n",
       "    <tr>\n",
       "      <th>False</th>\n",
       "      <td>59.0</td>\n",
       "      <td>967.491525</td>\n",
       "      <td>384.787150</td>\n",
       "      <td>300.0</td>\n",
       "      <td>700.0</td>\n",
       "      <td>900.0</td>\n",
       "      <td>1250.0</td>\n",
       "      <td>2000.0</td>\n",
       "      <td>59.0</td>\n",
       "      <td>1.355932</td>\n",
       "      <td>0.866278</td>\n",
       "      <td>1.0</td>\n",
       "      <td>1.0</td>\n",
       "      <td>1.0</td>\n",
       "      <td>1.0</td>\n",
       "      <td>5.0</td>\n",
       "    </tr>\n",
       "    <tr>\n",
       "      <th>True</th>\n",
       "      <td>91.0</td>\n",
       "      <td>948.076923</td>\n",
       "      <td>331.718798</td>\n",
       "      <td>300.0</td>\n",
       "      <td>750.0</td>\n",
       "      <td>900.0</td>\n",
       "      <td>1000.0</td>\n",
       "      <td>2000.0</td>\n",
       "      <td>91.0</td>\n",
       "      <td>1.252747</td>\n",
       "      <td>0.797125</td>\n",
       "      <td>1.0</td>\n",
       "      <td>1.0</td>\n",
       "      <td>1.0</td>\n",
       "      <td>1.0</td>\n",
       "      <td>5.0</td>\n",
       "    </tr>\n",
       "  </tbody>\n",
       "</table>\n",
       "</div>"
      ],
      "text/plain": [
       "             price                                                       \\\n",
       "             count        mean         std    min    25%    50%     75%   \n",
       "isLookingFor                                                              \n",
       "False         59.0  967.491525  384.787150  300.0  700.0  900.0  1250.0   \n",
       "True          91.0  948.076923  331.718798  300.0  750.0  900.0  1000.0   \n",
       "\n",
       "                     bedroom                                               \n",
       "                 max   count      mean       std  min  25%  50%  75%  max  \n",
       "isLookingFor                                                               \n",
       "False         2000.0    59.0  1.355932  0.866278  1.0  1.0  1.0  1.0  5.0  \n",
       "True          2000.0    91.0  1.252747  0.797125  1.0  1.0  1.0  1.0  5.0  "
      ]
     },
     "execution_count": 20,
     "metadata": {},
     "output_type": "execute_result"
    }
   ],
   "source": [
    "# a quick check\n",
    "df.groupby('isLookingFor').describe()"
   ]
  },
  {
   "cell_type": "code",
   "execution_count": 21,
   "id": "20a21b4d",
   "metadata": {},
   "outputs": [
    {
     "data": {
      "text/html": [
       "<div>\n",
       "<style scoped>\n",
       "    .dataframe tbody tr th:only-of-type {\n",
       "        vertical-align: middle;\n",
       "    }\n",
       "\n",
       "    .dataframe tbody tr th {\n",
       "        vertical-align: top;\n",
       "    }\n",
       "\n",
       "    .dataframe thead tr th {\n",
       "        text-align: left;\n",
       "    }\n",
       "\n",
       "    .dataframe thead tr:last-of-type th {\n",
       "        text-align: right;\n",
       "    }\n",
       "</style>\n",
       "<table border=\"1\" class=\"dataframe\">\n",
       "  <thead>\n",
       "    <tr>\n",
       "      <th></th>\n",
       "      <th colspan=\"8\" halign=\"left\">price</th>\n",
       "    </tr>\n",
       "    <tr>\n",
       "      <th></th>\n",
       "      <th>count</th>\n",
       "      <th>mean</th>\n",
       "      <th>std</th>\n",
       "      <th>min</th>\n",
       "      <th>25%</th>\n",
       "      <th>50%</th>\n",
       "      <th>75%</th>\n",
       "      <th>max</th>\n",
       "    </tr>\n",
       "    <tr>\n",
       "      <th>bedroom</th>\n",
       "      <th></th>\n",
       "      <th></th>\n",
       "      <th></th>\n",
       "      <th></th>\n",
       "      <th></th>\n",
       "      <th></th>\n",
       "      <th></th>\n",
       "      <th></th>\n",
       "    </tr>\n",
       "  </thead>\n",
       "  <tbody>\n",
       "    <tr>\n",
       "      <th>1</th>\n",
       "      <td>125.0</td>\n",
       "      <td>962.736</td>\n",
       "      <td>366.030079</td>\n",
       "      <td>300.0</td>\n",
       "      <td>750.00</td>\n",
       "      <td>900.0</td>\n",
       "      <td>1150.00</td>\n",
       "      <td>2000.0</td>\n",
       "    </tr>\n",
       "    <tr>\n",
       "      <th>2</th>\n",
       "      <td>17.0</td>\n",
       "      <td>1037.000</td>\n",
       "      <td>258.465181</td>\n",
       "      <td>500.0</td>\n",
       "      <td>879.00</td>\n",
       "      <td>1000.0</td>\n",
       "      <td>1300.00</td>\n",
       "      <td>1400.0</td>\n",
       "    </tr>\n",
       "    <tr>\n",
       "      <th>3</th>\n",
       "      <td>2.0</td>\n",
       "      <td>595.500</td>\n",
       "      <td>41.719300</td>\n",
       "      <td>566.0</td>\n",
       "      <td>580.75</td>\n",
       "      <td>595.5</td>\n",
       "      <td>610.25</td>\n",
       "      <td>625.0</td>\n",
       "    </tr>\n",
       "    <tr>\n",
       "      <th>4</th>\n",
       "      <td>1.0</td>\n",
       "      <td>800.000</td>\n",
       "      <td>NaN</td>\n",
       "      <td>800.0</td>\n",
       "      <td>800.00</td>\n",
       "      <td>800.0</td>\n",
       "      <td>800.00</td>\n",
       "      <td>800.0</td>\n",
       "    </tr>\n",
       "    <tr>\n",
       "      <th>5</th>\n",
       "      <td>5.0</td>\n",
       "      <td>679.000</td>\n",
       "      <td>94.101010</td>\n",
       "      <td>550.0</td>\n",
       "      <td>640.00</td>\n",
       "      <td>675.0</td>\n",
       "      <td>730.00</td>\n",
       "      <td>800.0</td>\n",
       "    </tr>\n",
       "  </tbody>\n",
       "</table>\n",
       "</div>"
      ],
      "text/plain": [
       "         price                                                              \n",
       "         count      mean         std    min     25%     50%      75%     max\n",
       "bedroom                                                                     \n",
       "1        125.0   962.736  366.030079  300.0  750.00   900.0  1150.00  2000.0\n",
       "2         17.0  1037.000  258.465181  500.0  879.00  1000.0  1300.00  1400.0\n",
       "3          2.0   595.500   41.719300  566.0  580.75   595.5   610.25   625.0\n",
       "4          1.0   800.000         NaN  800.0  800.00   800.0   800.00   800.0\n",
       "5          5.0   679.000   94.101010  550.0  640.00   675.0   730.00   800.0"
      ]
     },
     "execution_count": 21,
     "metadata": {},
     "output_type": "execute_result"
    }
   ],
   "source": [
    "df.groupby('bedroom').describe()"
   ]
  },
  {
   "cell_type": "code",
   "execution_count": 22,
   "id": "38fae848",
   "metadata": {},
   "outputs": [],
   "source": [
    "# separate data by number of bedrooms\n",
    "by_bedroom = df.groupby('bedroom')"
   ]
  },
  {
   "cell_type": "code",
   "execution_count": 23,
   "id": "3b4d27d9",
   "metadata": {},
   "outputs": [],
   "source": [
    "bedroom_labels = []\n",
    "bedroom_values = []\n",
    "price_by_bedroom = {}"
   ]
  },
  {
   "cell_type": "code",
   "execution_count": 24,
   "id": "e88a520b",
   "metadata": {
    "scrolled": true
   },
   "outputs": [],
   "source": [
    "# store key (bedroom number) and value (average price) in the variable price_by_bedroom\n",
    "for idx, frame in by_bedroom:\n",
    "    bedroom_labels.append(idx)\n",
    "    bedroom_values.append(by_bedroom.size()[idx])\n",
    "    price_by_bedroom[idx] = by_bedroom.mean().loc[idx, 'price']"
   ]
  },
  {
   "cell_type": "code",
   "execution_count": 25,
   "id": "bfe88d52",
   "metadata": {
    "scrolled": true
   },
   "outputs": [
    {
     "data": {
      "text/plain": [
       "{1: 962.736, 2: 1037.0, 3: 595.5, 4: 800.0, 5: 679.0}"
      ]
     },
     "execution_count": 25,
     "metadata": {},
     "output_type": "execute_result"
    }
   ],
   "source": [
    "price_by_bedroom"
   ]
  },
  {
   "cell_type": "code",
   "execution_count": 26,
   "id": "333b0d86",
   "metadata": {},
   "outputs": [],
   "source": [
    "# a function for specific percentage format (for the pie chart)\n",
    "def custom_autopct(pct): \n",
    "    return '{:.1f}%'.format(pct) if pct >= 5 else ''"
   ]
  },
  {
   "cell_type": "code",
   "execution_count": 27,
   "id": "f43f2160",
   "metadata": {},
   "outputs": [
    {
     "data": {
      "text/plain": [
       "150"
      ]
     },
     "execution_count": 27,
     "metadata": {},
     "output_type": "execute_result"
    }
   ],
   "source": [
    "total_bedrooms = sum(bedroom_values) # number of total bedrooms to calculate the percentage later on\n",
    "total_bedrooms"
   ]
  },
  {
   "cell_type": "code",
   "execution_count": 28,
   "id": "5210fc7a",
   "metadata": {
    "scrolled": true
   },
   "outputs": [
    {
     "data": {
      "image/png": "[encoded data removed]",
      "text/plain": [
       "<Figure size 432x288 with 1 Axes>"
      ]
     },
     "metadata": {},
     "output_type": "display_data"
    }
   ],
   "source": [
    "# A pie chart for Distribution of Number of Bedrooms\n",
    "colors = ['#8ecae6', '#219ebc', '#023047', '#ffb703', '#fb8500']\n",
    "explode = [0.03] * 5\n",
    "labels = [str(s) + ' beds' for s in bedroom_labels]\n",
    "wedgeprops = {'width': 0.6, 'edgecolor':'w', 'linewidth': 1.5}\n",
    "plt.pie(bedroom_values, labels=labels, colors=colors, autopct=custom_autopct, explode=explode, wedgeprops=wedgeprops, pctdistance=0.7)\n",
    "plt.title(\"Number of Bedrooms\")\n",
    "\n",
    "bedroom_percent = (bedroom_values / total_bedrooms) * 100\n",
    "legend_labels = [f'{l}, {s:0.1f}%' for l, s in zip(labels, bedroom_percent)]\n",
    "plt.legend(loc=(0.8, 0.6), labels=legend_labels)\n",
    "\n",
    "plt.savefig('Graphs/byBedroom.png', dpi=100)\n",
    "plt.show()"
   ]
  },
  {
   "cell_type": "code",
   "execution_count": 29,
   "id": "324d06bb",
   "metadata": {
    "scrolled": true
   },
   "outputs": [
    {
     "data": {
      "image/png": "[encoded data removed]",
      "text/plain": [
       "<Figure size 432x288 with 1 Axes>"
      ]
     },
     "metadata": {
      "needs_background": "light"
     },
     "output_type": "display_data"
    }
   ],
   "source": [
    "# A Bar Graph for Average Price per room (by Number of total bedrooms)\n",
    "plt.bar(price_by_bedroom.keys(), price_by_bedroom.values(), color='#ffcb77')\n",
    "plt.ylim(0, 1400)\n",
    "plt.title(\"Average Price by Number of total bedrooms\")\n",
    "plt.xlabel('Number of bedrooms')\n",
    "plt.ylabel('Price per bed ($)')\n",
    "plt.savefig('Graphs/priceByBedroom.png', dpi=100)\n",
    "plt.show()"
   ]
  },
  {
   "cell_type": "code",
   "execution_count": 30,
   "id": "5722743d",
   "metadata": {},
   "outputs": [],
   "source": [
    "searchCount = df[df['isLookingFor'] == True].shape[0]\n",
    "offerCount = df[df['isLookingFor'] == False].shape[0]"
   ]
  },
  {
   "cell_type": "code",
   "execution_count": 33,
   "id": "53d0fc3d",
   "metadata": {
    "scrolled": true
   },
   "outputs": [
    {
     "data": {
      "image/png": "[encoded data removed]",
      "text/plain": [
       "<Figure size 432x288 with 1 Axes>"
      ]
     },
     "metadata": {},
     "output_type": "display_data"
    }
   ],
   "source": [
    "# A pie chart to compare supply and demand\n",
    "my_values = [offerCount, searchCount]\n",
    "my_labels = ['Supply', 'Demand']\n",
    "colors = ['#f4845f', '#f7b267']\n",
    "explode = [0.03] * 2\n",
    "wedgeprops = {'width': 0.7, 'edgecolor':'w', 'linewidth':2}\n",
    "textprops = {\"fontsize\":12}\n",
    "plt.pie(my_values, labels=my_labels, explode=explode, autopct = \"%0.1f%%\", colors=colors, wedgeprops=wedgeprops, textprops=textprops)\n",
    "plt.title('Supply vs. Demand')\n",
    "plt.legend(loc=(0.9, 0.8))\n",
    "plt.savefig('Graphs/supply_vs_demand.png', dpi=100)\n",
    "plt.show()"
   ]
  },
  {
   "cell_type": "code",
   "execution_count": 34,
   "id": "1d09e007",
   "metadata": {
    "scrolled": false
   },
   "outputs": [],
   "source": [
    "# a new dataframe to store average price, for Supply and Demand individually\n",
    "avg_price = pd.DataFrame(bedroom_labels, columns=['bedroom'])"
   ]
  },
  {
   "cell_type": "code",
   "execution_count": 35,
   "id": "f5f07a87",
   "metadata": {
    "scrolled": false
   },
   "outputs": [],
   "source": [
    "df_searches = df.groupby('isLookingFor').get_group(True).groupby('bedroom').mean()['price']\n",
    "df_offers = df.groupby('isLookingFor').get_group(False).groupby('bedroom').mean()['price']"
   ]
  },
  {
   "cell_type": "code",
   "execution_count": 36,
   "id": "4e07fcf4",
   "metadata": {},
   "outputs": [
    {
     "data": {
      "text/plain": [
       "(595.5, 1107.9)"
      ]
     },
     "execution_count": 36,
     "metadata": {},
     "output_type": "execute_result"
    }
   ],
   "source": [
    "# min and max calculated to be used in the bar graph later (we want this here before inserting zeros)\n",
    "min_price = min(list(df_searches) + list(df_offers))\n",
    "max_price = max(list(df_searches) + list(df_offers))\n",
    "min_price, max_price"
   ]
  },
  {
   "cell_type": "code",
   "execution_count": 38,
   "id": "9a05b9d6",
   "metadata": {},
   "outputs": [],
   "source": [
    "avg_price['Searches'] = np.arange(5)\n",
    "avg_price['Offers'] = np.arange(5)\n",
    "\n",
    "# insert the average price for each row (number of bedrooms) and column (isLookingFor)\n",
    "for i, value in enumerate(bedroom_labels):\n",
    "    if value in df_searches.index:\n",
    "        avg_price.iloc[i, 1] = round(df_searches[value], 1)\n",
    "    else: \n",
    "        avg_price.iloc[i, 1] = 0\n",
    "        \n",
    "    if value in df_offers.index:\n",
    "        avg_price.iloc[i, 2] = round(df_offers[value], 1)\n",
    "    else:\n",
    "        avg_price.iloc[i, 2] = 0"
   ]
  },
  {
   "cell_type": "code",
   "execution_count": 39,
   "id": "8dc6cf30",
   "metadata": {},
   "outputs": [
    {
     "data": {
      "text/html": [
       "<div>\n",
       "<style scoped>\n",
       "    .dataframe tbody tr th:only-of-type {\n",
       "        vertical-align: middle;\n",
       "    }\n",
       "\n",
       "    .dataframe tbody tr th {\n",
       "        vertical-align: top;\n",
       "    }\n",
       "\n",
       "    .dataframe thead th {\n",
       "        text-align: right;\n",
       "    }\n",
       "</style>\n",
       "<table border=\"1\" class=\"dataframe\">\n",
       "  <thead>\n",
       "    <tr style=\"text-align: right;\">\n",
       "      <th></th>\n",
       "      <th>bedroom</th>\n",
       "      <th>Searches</th>\n",
       "      <th>Offers</th>\n",
       "    </tr>\n",
       "  </thead>\n",
       "  <tbody>\n",
       "    <tr>\n",
       "      <th>0</th>\n",
       "      <td>1</td>\n",
       "      <td>966.6</td>\n",
       "      <td>956.0</td>\n",
       "    </tr>\n",
       "    <tr>\n",
       "      <th>1</th>\n",
       "      <td>2</td>\n",
       "      <td>935.7</td>\n",
       "      <td>1107.9</td>\n",
       "    </tr>\n",
       "    <tr>\n",
       "      <th>2</th>\n",
       "      <td>3</td>\n",
       "      <td>595.5</td>\n",
       "      <td>0.0</td>\n",
       "    </tr>\n",
       "    <tr>\n",
       "      <th>3</th>\n",
       "      <td>4</td>\n",
       "      <td>0.0</td>\n",
       "      <td>800.0</td>\n",
       "    </tr>\n",
       "    <tr>\n",
       "      <th>4</th>\n",
       "      <td>5</td>\n",
       "      <td>723.3</td>\n",
       "      <td>612.5</td>\n",
       "    </tr>\n",
       "  </tbody>\n",
       "</table>\n",
       "</div>"
      ],
      "text/plain": [
       "   bedroom  Searches  Offers\n",
       "0        1     966.6   956.0\n",
       "1        2     935.7  1107.9\n",
       "2        3     595.5     0.0\n",
       "3        4       0.0   800.0\n",
       "4        5     723.3   612.5"
      ]
     },
     "execution_count": 39,
     "metadata": {},
     "output_type": "execute_result"
    }
   ],
   "source": [
    "avg_price"
   ]
  },
  {
   "cell_type": "code",
   "execution_count": 43,
   "id": "b14cf06f",
   "metadata": {},
   "outputs": [
    {
     "data": {
      "text/plain": [
       "[1, 2, 3, 4, 5]"
      ]
     },
     "execution_count": 43,
     "metadata": {},
     "output_type": "execute_result"
    }
   ],
   "source": [
    "bedroom_labels"
   ]
  },
  {
   "cell_type": "code",
   "execution_count": 44,
   "id": "a60dbafe",
   "metadata": {
    "scrolled": true
   },
   "outputs": [
    {
     "data": {
      "image/png": "[encoded data removed]",
      "text/plain": [
       "<Figure size 576x360 with 1 Axes>"
      ]
     },
     "metadata": {
      "needs_background": "light"
     },
     "output_type": "display_data"
    }
   ],
   "source": [
    "plt.figure(figsize=(8, 5))\n",
    "plt.title('Average Rent Price by # of Total Bedrooms in the Unit')\n",
    "\n",
    "searches_bar = plt.bar(bedroom_labels, avg_price['Searches'], width=-0.4, align='edge', label='Demand', color='#f4845f')\n",
    "offers_bar = plt.bar(bedroom_labels, avg_price['Offers'], width=0.4, align='edge', label='Supply', color='#f7b267')\n",
    "\n",
    "plt.ylim(min_price - 100, max_price + 100)\n",
    "plt.legend(ncol=1, prop={'size': 12}, loc=1)\n",
    "plt.xlabel('Number of bedrooms')\n",
    "plt.ylabel('Price per bedroom ($)')\n",
    "\n",
    "for idx, rect in enumerate(searches_bar): \n",
    "    if rect.get_height():\n",
    "        plt.text(idx+0.78, rect.get_height() + 15, avg_price['Searches'][idx], ha='center', color='black')\n",
    "\n",
    "for idx, rect in enumerate(offers_bar):\n",
    "    if rect.get_height():\n",
    "        plt.text(idx+1.2, rect.get_height() + 15, avg_price['Offers'][idx], ha='center', color='black')\n",
    "\n",
    "plt.savefig('Graphs/compare_price_searches_offers.png', dpi=100)\n",
    "plt.show()"
   ]
  }
 ],
 "metadata": {
  "kernelspec": {
   "display_name": "Python 3 (ipykernel)",
   "language": "python",
   "name": "python3"
  },
  "language_info": {
   "codemirror_mode": {
    "name": "ipython",
    "version": 3
   },
   "file_extension": ".py",
   "mimetype": "text/x-python",
   "name": "python",
   "nbconvert_exporter": "python",
   "pygments_lexer": "ipython3",
   "version": "3.9.12"
  }
 },
 "nbformat": 4,
 "nbformat_minor": 5
}
