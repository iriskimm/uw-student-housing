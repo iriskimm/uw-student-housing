{
 "cells": [
  {
   "cell_type": "code",
   "execution_count": 1,
   "id": "e812c3bb",
   "metadata": {
    "scrolled": true
   },
   "outputs": [],
   "source": [
    "import selenium\n",
    "from selenium import webdriver\n",
    "from selenium.webdriver.common.by import By\n",
    "from selenium.webdriver.chrome.options import Options\n",
    "from selenium.webdriver.support import expected_conditions as EC\n",
    "from selenium.webdriver.support.wait import WebDriverWait\n",
    "from time import sleep\n",
    "from bs4 import BeautifulSoup\n",
    "import re\n",
    "import pandas as pd\n",
    "import numpy as np\n",
    "import matplotlib.pyplot as plt\n",
    "import csv\n",
    "import config"
   ]
  },
  {
   "cell_type": "code",
   "execution_count": null,
   "id": "cdf9b1d8",
   "metadata": {},
   "outputs": [],
   "source": [
    "# disable notifications\n",
    "chrome_options = Options()\n",
    "chrome_options.add_argument(\"--disable-notifications\")"
   ]
  },
  {
   "cell_type": "code",
   "execution_count": null,
   "id": "b50047b9",
   "metadata": {
    "scrolled": true
   },
   "outputs": [],
   "source": [
    "# open facebook\n",
    "driver = webdriver.Chrome(config.path_to_chromedriver, options=chrome_options) \n",
    "driver.get(\"https://www.facebook.com\")"
   ]
  },
  {
   "cell_type": "code",
   "execution_count": null,
   "id": "8def0495",
   "metadata": {},
   "outputs": [],
   "source": [
    "# Log in using my credentials\n",
    "username = WebDriverWait(driver, 5).until(EC.element_to_be_clickable((By.CSS_SELECTOR, \"input[name='email']\")))\n",
    "password = WebDriverWait(driver, 5).until(EC.element_to_be_clickable((By.CSS_SELECTOR, \"input[name='pass']\")))\n",
    "\n",
    "# my_username and my_password should be replaced with your own unique values\n",
    "username.clear()\n",
    "username.send_keys(config.my_username)\n",
    "password.clear()\n",
    "password.send_keys(config.my_password)\n",
    "button = WebDriverWait(driver, 2).until(EC.element_to_be_clickable((By.CSS_SELECTOR, \"button[type='submit']\"))).click()\n",
    "sleep(8)"
   ]
  },
  {
   "cell_type": "code",
   "execution_count": null,
   "id": "8178c28d",
   "metadata": {},
   "outputs": [],
   "source": [
    "# Open the facebook group (Student Housing in Waterloo)\n",
    "driver.get('https://www.facebook.com/groups/110354088989367')\n",
    "sleep(10)"
   ]
  },
  {
   "cell_type": "code",
   "execution_count": null,
   "id": "1dd8ee6f",
   "metadata": {},
   "outputs": [],
   "source": [
    "# scroll down to gather more posts\n",
    "for j in range(0,40):\n",
    "    driver.execute_script(\"window.scrollTo(0, document.body.scrollHeight);\")\n",
    "    sleep(10)"
   ]
  },
  {
   "cell_type": "code",
   "execution_count": null,
   "id": "886cc5ea",
   "metadata": {},
   "outputs": [],
   "source": [
    "# store all posts' html in all_posts\n",
    "soup = BeautifulSoup(driver.page_source, \"html.parser\")\n",
    "all_posts = soup.find_all('div', attrs={'class':'du4w35lb k4urcfbm l9j0dhe7 sjgh65i0'})"
   ]
  },
  {
   "cell_type": "code",
   "execution_count": null,
   "id": "7cea5d6e",
   "metadata": {},
   "outputs": [],
   "source": [
    "len(all_posts) # note: 282 posts when scrolled 50 times - range(0, 50)"
   ]
  },
  {
   "cell_type": "code",
   "execution_count": null,
   "id": "f43e9ad9",
   "metadata": {},
   "outputs": [],
   "source": [
    "# This function takes in the message from each post, and returns the number of bedrooms specified\n",
    "def get_bedrooms(my_str):\n",
    "    d1 = re.search('([^ \\r\\n]+) beds?', my_str, re.IGNORECASE)\n",
    "    d2 = re.search('([^ \\r\\n]+) bedrooms?', my_str, re.IGNORECASE)\n",
    "    if d1:\n",
    "        beds = d1.group(0)\n",
    "    elif d2:\n",
    "        beds = d2.group(0)\n",
    "    else:\n",
    "        beds = 1 # one bedroom by default if not specified\n",
    "    return beds"
   ]
  },
  {
   "cell_type": "code",
   "execution_count": null,
   "id": "01624bca",
   "metadata": {},
   "outputs": [],
   "source": [
    "# testing get_bedrooms: \n",
    "msg = '2 Beds 1 Bath - Apartment203 Albert St, Waterloo, ON N2L 3T4, Canada'\n",
    "print('bedroom:', get_bedrooms(msg))"
   ]
  },
  {
   "cell_type": "code",
   "execution_count": null,
   "id": "7ba725ee",
   "metadata": {},
   "outputs": [],
   "source": [
    "# This function takes in the message from each post, and returns a Boolean value to indicate whether the post is\n",
    "#   looking for a housing (True), or is in search for a housing (False)\n",
    "def is_looking(my_str):\n",
    "    my_str = my_str.lower()\n",
    "    if 'looking'in my_str:\n",
    "        return True\n",
    "    elif 'available' or 'offering' in my_str:\n",
    "        return False\n",
    "    else:\n",
    "        return None"
   ]
  },
  {
   "cell_type": "code",
   "execution_count": null,
   "id": "5a54987e",
   "metadata": {},
   "outputs": [],
   "source": [
    "# initializes lists to be added to the dataframe later on\n",
    "price_list = []\n",
    "bedrooms_list = []\n",
    "isLookingFor_list = []"
   ]
  },
  {
   "cell_type": "code",
   "execution_count": null,
   "id": "2be0d148",
   "metadata": {
    "scrolled": true
   },
   "outputs": [],
   "source": [
    "for post in all_posts: \n",
    "    price_text = post.find('span', attrs={'class': 'sqxagodl'}).find('div').getText()\n",
    "    try: \n",
    "        price = ''.join([n for n in price_text.split()[0] if n.isdigit()])\n",
    "        if price == '':\n",
    "            price = 0\n",
    "    except: \n",
    "        price = 0\n",
    "    \n",
    "    message_text = post.find('div', attrs={'data-ad-comet-preview':'message'})\n",
    "    try:\n",
    "        message = str(message_text.getText())\n",
    "    except:\n",
    "        message = ''\n",
    "\n",
    "    bedroom_text = get_bedrooms(message)\n",
    "    try: \n",
    "        bedroom = ''.join([n for n in str(bedroom_text).split()[0] if n.isdigit()])\n",
    "        if bedroom == '':\n",
    "            bedroom = 1\n",
    "    except:\n",
    "        bedroom = 1 # 1 bedroom by default if not specified\n",
    "\n",
    "    if int(price) >= 1600: # if price is above 1600, assume that it's total price for the entire unit\n",
    "        price = int(price) // int(bedroom)\n",
    "\n",
    "    price_list.append(int(price))\n",
    "    bedrooms_list.append(int(bedroom))\n",
    "    isLookingFor_list.append(is_looking(message))"
   ]
  },
  {
   "cell_type": "code",
   "execution_count": null,
   "id": "957b9893",
   "metadata": {
    "scrolled": false
   },
   "outputs": [],
   "source": [
    "price_list[:10], bedrooms_list[:10], isLookingFor_list[:10]"
   ]
  },
  {
   "cell_type": "code",
   "execution_count": null,
   "id": "15b21a55",
   "metadata": {},
   "outputs": [],
   "source": [
    "len(price_list), len(bedrooms_list)"
   ]
  },
  {
   "cell_type": "code",
   "execution_count": null,
   "id": "11b931c1",
   "metadata": {},
   "outputs": [],
   "source": [
    "data = {'price': price_list, 'bedroom': bedrooms_list, 'isLookingFor': isLookingFor_list}"
   ]
  },
  {
   "cell_type": "code",
   "execution_count": null,
   "id": "a568432b",
   "metadata": {
    "scrolled": false
   },
   "outputs": [],
   "source": [
    "# df = pd.DataFrame(data)\n",
    "# df.to_excel('housing_list.xlsx', index=False)\n",
    "df.head()"
   ]
  },
  {
   "cell_type": "markdown",
   "id": "f34e40ef",
   "metadata": {},
   "source": [
    "#### For convenience, I am reading from the excel file to analyze data instead of scraping from facebook each time"
   ]
  },
  {
   "cell_type": "code",
   "execution_count": 2,
   "id": "e278103c",
   "metadata": {},
   "outputs": [],
   "source": [
    "df = pd.read_excel('housing_list.xlsx')"
   ]
  },
  {
   "cell_type": "code",
   "execution_count": 3,
   "id": "9c6510df",
   "metadata": {},
   "outputs": [],
   "source": [
    "# ignore some rows (since people might be either putting numbers like $1, $100, $123456, $999999, or might be looking for a parking spot)\n",
    "df.drop(df[(df.price < 300) | (df.price > 2000)].index, inplace=True)\n",
    "df.drop(df[df.bedroom > 7].index, inplace=True) # assume there are no more bedrooms than 7"
   ]
  },
  {
   "cell_type": "code",
   "execution_count": 4,
   "id": "9aee208f",
   "metadata": {},
   "outputs": [
    {
     "data": {
      "text/html": [
       "<div>\n",
       "<style scoped>\n",
       "    .dataframe tbody tr th:only-of-type {\n",
       "        vertical-align: middle;\n",
       "    }\n",
       "\n",
       "    .dataframe tbody tr th {\n",
       "        vertical-align: top;\n",
       "    }\n",
       "\n",
       "    .dataframe thead tr th {\n",
       "        text-align: left;\n",
       "    }\n",
       "\n",
       "    .dataframe thead tr:last-of-type th {\n",
       "        text-align: right;\n",
       "    }\n",
       "</style>\n",
       "<table border=\"1\" class=\"dataframe\">\n",
       "  <thead>\n",
       "    <tr>\n",
       "      <th></th>\n",
       "      <th colspan=\"8\" halign=\"left\">price</th>\n",
       "      <th colspan=\"8\" halign=\"left\">bedroom</th>\n",
       "    </tr>\n",
       "    <tr>\n",
       "      <th></th>\n",
       "      <th>count</th>\n",
       "      <th>mean</th>\n",
       "      <th>std</th>\n",
       "      <th>min</th>\n",
       "      <th>25%</th>\n",
       "      <th>50%</th>\n",
       "      <th>75%</th>\n",
       "      <th>max</th>\n",
       "      <th>count</th>\n",
       "      <th>mean</th>\n",
       "      <th>std</th>\n",
       "      <th>min</th>\n",
       "      <th>25%</th>\n",
       "      <th>50%</th>\n",
       "      <th>75%</th>\n",
       "      <th>max</th>\n",
       "    </tr>\n",
       "    <tr>\n",
       "      <th>isLookingFor</th>\n",
       "      <th></th>\n",
       "      <th></th>\n",
       "      <th></th>\n",
       "      <th></th>\n",
       "      <th></th>\n",
       "      <th></th>\n",
       "      <th></th>\n",
       "      <th></th>\n",
       "      <th></th>\n",
       "      <th></th>\n",
       "      <th></th>\n",
       "      <th></th>\n",
       "      <th></th>\n",
       "      <th></th>\n",
       "      <th></th>\n",
       "      <th></th>\n",
       "    </tr>\n",
       "  </thead>\n",
       "  <tbody>\n",
       "    <tr>\n",
       "      <th>False</th>\n",
       "      <td>53.0</td>\n",
       "      <td>928.377358</td>\n",
       "      <td>341.732139</td>\n",
       "      <td>300.0</td>\n",
       "      <td>700.0</td>\n",
       "      <td>900.0</td>\n",
       "      <td>1200.0</td>\n",
       "      <td>1950.0</td>\n",
       "      <td>53.0</td>\n",
       "      <td>1.283019</td>\n",
       "      <td>0.743623</td>\n",
       "      <td>1.0</td>\n",
       "      <td>1.0</td>\n",
       "      <td>1.0</td>\n",
       "      <td>1.0</td>\n",
       "      <td>5.0</td>\n",
       "    </tr>\n",
       "    <tr>\n",
       "      <th>True</th>\n",
       "      <td>86.0</td>\n",
       "      <td>959.523256</td>\n",
       "      <td>361.304555</td>\n",
       "      <td>300.0</td>\n",
       "      <td>800.0</td>\n",
       "      <td>837.5</td>\n",
       "      <td>1000.0</td>\n",
       "      <td>2000.0</td>\n",
       "      <td>86.0</td>\n",
       "      <td>1.267442</td>\n",
       "      <td>0.758085</td>\n",
       "      <td>1.0</td>\n",
       "      <td>1.0</td>\n",
       "      <td>1.0</td>\n",
       "      <td>1.0</td>\n",
       "      <td>5.0</td>\n",
       "    </tr>\n",
       "  </tbody>\n",
       "</table>\n",
       "</div>"
      ],
      "text/plain": [
       "             price                                                       \\\n",
       "             count        mean         std    min    25%    50%     75%   \n",
       "isLookingFor                                                              \n",
       "False         53.0  928.377358  341.732139  300.0  700.0  900.0  1200.0   \n",
       "True          86.0  959.523256  361.304555  300.0  800.0  837.5  1000.0   \n",
       "\n",
       "                     bedroom                                               \n",
       "                 max   count      mean       std  min  25%  50%  75%  max  \n",
       "isLookingFor                                                               \n",
       "False         1950.0    53.0  1.283019  0.743623  1.0  1.0  1.0  1.0  5.0  \n",
       "True          2000.0    86.0  1.267442  0.758085  1.0  1.0  1.0  1.0  5.0  "
      ]
     },
     "execution_count": 4,
     "metadata": {},
     "output_type": "execute_result"
    }
   ],
   "source": [
    "df.groupby('isLookingFor').describe()"
   ]
  },
  {
   "cell_type": "code",
   "execution_count": 5,
   "id": "53f471e1",
   "metadata": {
    "scrolled": true
   },
   "outputs": [
    {
     "data": {
      "text/html": [
       "<div>\n",
       "<style scoped>\n",
       "    .dataframe tbody tr th:only-of-type {\n",
       "        vertical-align: middle;\n",
       "    }\n",
       "\n",
       "    .dataframe tbody tr th {\n",
       "        vertical-align: top;\n",
       "    }\n",
       "\n",
       "    .dataframe thead tr th {\n",
       "        text-align: left;\n",
       "    }\n",
       "\n",
       "    .dataframe thead tr:last-of-type th {\n",
       "        text-align: right;\n",
       "    }\n",
       "</style>\n",
       "<table border=\"1\" class=\"dataframe\">\n",
       "  <thead>\n",
       "    <tr>\n",
       "      <th></th>\n",
       "      <th colspan=\"8\" halign=\"left\">price</th>\n",
       "    </tr>\n",
       "    <tr>\n",
       "      <th></th>\n",
       "      <th>count</th>\n",
       "      <th>mean</th>\n",
       "      <th>std</th>\n",
       "      <th>min</th>\n",
       "      <th>25%</th>\n",
       "      <th>50%</th>\n",
       "      <th>75%</th>\n",
       "      <th>max</th>\n",
       "    </tr>\n",
       "    <tr>\n",
       "      <th>bedroom</th>\n",
       "      <th></th>\n",
       "      <th></th>\n",
       "      <th></th>\n",
       "      <th></th>\n",
       "      <th></th>\n",
       "      <th></th>\n",
       "      <th></th>\n",
       "      <th></th>\n",
       "    </tr>\n",
       "  </thead>\n",
       "  <tbody>\n",
       "    <tr>\n",
       "      <th>1</th>\n",
       "      <td>72.0</td>\n",
       "      <td>971.5</td>\n",
       "      <td>384.909355</td>\n",
       "      <td>300.0</td>\n",
       "      <td>787.5</td>\n",
       "      <td>825.0</td>\n",
       "      <td>1000.0</td>\n",
       "      <td>2000.0</td>\n",
       "    </tr>\n",
       "    <tr>\n",
       "      <th>2</th>\n",
       "      <td>10.0</td>\n",
       "      <td>965.0</td>\n",
       "      <td>187.157094</td>\n",
       "      <td>700.0</td>\n",
       "      <td>812.5</td>\n",
       "      <td>975.0</td>\n",
       "      <td>1037.5</td>\n",
       "      <td>1300.0</td>\n",
       "    </tr>\n",
       "    <tr>\n",
       "      <th>3</th>\n",
       "      <td>1.0</td>\n",
       "      <td>566.0</td>\n",
       "      <td>NaN</td>\n",
       "      <td>566.0</td>\n",
       "      <td>566.0</td>\n",
       "      <td>566.0</td>\n",
       "      <td>566.0</td>\n",
       "      <td>566.0</td>\n",
       "    </tr>\n",
       "    <tr>\n",
       "      <th>4</th>\n",
       "      <td>1.0</td>\n",
       "      <td>825.0</td>\n",
       "      <td>NaN</td>\n",
       "      <td>825.0</td>\n",
       "      <td>825.0</td>\n",
       "      <td>825.0</td>\n",
       "      <td>825.0</td>\n",
       "      <td>825.0</td>\n",
       "    </tr>\n",
       "    <tr>\n",
       "      <th>5</th>\n",
       "      <td>2.0</td>\n",
       "      <td>765.0</td>\n",
       "      <td>49.497475</td>\n",
       "      <td>730.0</td>\n",
       "      <td>747.5</td>\n",
       "      <td>765.0</td>\n",
       "      <td>782.5</td>\n",
       "      <td>800.0</td>\n",
       "    </tr>\n",
       "  </tbody>\n",
       "</table>\n",
       "</div>"
      ],
      "text/plain": [
       "        price                                                        \n",
       "        count   mean         std    min    25%    50%     75%     max\n",
       "bedroom                                                              \n",
       "1        72.0  971.5  384.909355  300.0  787.5  825.0  1000.0  2000.0\n",
       "2        10.0  965.0  187.157094  700.0  812.5  975.0  1037.5  1300.0\n",
       "3         1.0  566.0         NaN  566.0  566.0  566.0   566.0   566.0\n",
       "4         1.0  825.0         NaN  825.0  825.0  825.0   825.0   825.0\n",
       "5         2.0  765.0   49.497475  730.0  747.5  765.0   782.5   800.0"
      ]
     },
     "execution_count": 5,
     "metadata": {},
     "output_type": "execute_result"
    }
   ],
   "source": [
    "df.groupby('isLookingFor').get_group(True).groupby('bedroom').describe()"
   ]
  },
  {
   "cell_type": "code",
   "execution_count": 6,
   "id": "d04b56a4",
   "metadata": {},
   "outputs": [
    {
     "data": {
      "text/html": [
       "<div>\n",
       "<style scoped>\n",
       "    .dataframe tbody tr th:only-of-type {\n",
       "        vertical-align: middle;\n",
       "    }\n",
       "\n",
       "    .dataframe tbody tr th {\n",
       "        vertical-align: top;\n",
       "    }\n",
       "\n",
       "    .dataframe thead tr th {\n",
       "        text-align: left;\n",
       "    }\n",
       "\n",
       "    .dataframe thead tr:last-of-type th {\n",
       "        text-align: right;\n",
       "    }\n",
       "</style>\n",
       "<table border=\"1\" class=\"dataframe\">\n",
       "  <thead>\n",
       "    <tr>\n",
       "      <th></th>\n",
       "      <th colspan=\"8\" halign=\"left\">price</th>\n",
       "    </tr>\n",
       "    <tr>\n",
       "      <th></th>\n",
       "      <th>count</th>\n",
       "      <th>mean</th>\n",
       "      <th>std</th>\n",
       "      <th>min</th>\n",
       "      <th>25%</th>\n",
       "      <th>50%</th>\n",
       "      <th>75%</th>\n",
       "      <th>max</th>\n",
       "    </tr>\n",
       "    <tr>\n",
       "      <th>bedroom</th>\n",
       "      <th></th>\n",
       "      <th></th>\n",
       "      <th></th>\n",
       "      <th></th>\n",
       "      <th></th>\n",
       "      <th></th>\n",
       "      <th></th>\n",
       "      <th></th>\n",
       "    </tr>\n",
       "  </thead>\n",
       "  <tbody>\n",
       "    <tr>\n",
       "      <th>1</th>\n",
       "      <td>43.0</td>\n",
       "      <td>903.488372</td>\n",
       "      <td>354.853918</td>\n",
       "      <td>300.0</td>\n",
       "      <td>700.00</td>\n",
       "      <td>800.0</td>\n",
       "      <td>1000.0</td>\n",
       "      <td>1950.0</td>\n",
       "    </tr>\n",
       "    <tr>\n",
       "      <th>2</th>\n",
       "      <td>8.0</td>\n",
       "      <td>1109.875000</td>\n",
       "      <td>242.917057</td>\n",
       "      <td>700.0</td>\n",
       "      <td>969.75</td>\n",
       "      <td>1150.0</td>\n",
       "      <td>1300.0</td>\n",
       "      <td>1400.0</td>\n",
       "    </tr>\n",
       "    <tr>\n",
       "      <th>4</th>\n",
       "      <td>1.0</td>\n",
       "      <td>800.000000</td>\n",
       "      <td>NaN</td>\n",
       "      <td>800.0</td>\n",
       "      <td>800.00</td>\n",
       "      <td>800.0</td>\n",
       "      <td>800.0</td>\n",
       "      <td>800.0</td>\n",
       "    </tr>\n",
       "    <tr>\n",
       "      <th>5</th>\n",
       "      <td>1.0</td>\n",
       "      <td>675.000000</td>\n",
       "      <td>NaN</td>\n",
       "      <td>675.0</td>\n",
       "      <td>675.00</td>\n",
       "      <td>675.0</td>\n",
       "      <td>675.0</td>\n",
       "      <td>675.0</td>\n",
       "    </tr>\n",
       "  </tbody>\n",
       "</table>\n",
       "</div>"
      ],
      "text/plain": [
       "        price                                                                \n",
       "        count         mean         std    min     25%     50%     75%     max\n",
       "bedroom                                                                      \n",
       "1        43.0   903.488372  354.853918  300.0  700.00   800.0  1000.0  1950.0\n",
       "2         8.0  1109.875000  242.917057  700.0  969.75  1150.0  1300.0  1400.0\n",
       "4         1.0   800.000000         NaN  800.0  800.00   800.0   800.0   800.0\n",
       "5         1.0   675.000000         NaN  675.0  675.00   675.0   675.0   675.0"
      ]
     },
     "execution_count": 6,
     "metadata": {},
     "output_type": "execute_result"
    }
   ],
   "source": [
    "df.groupby('isLookingFor').get_group(False).groupby('bedroom').describe()"
   ]
  },
  {
   "cell_type": "code",
   "execution_count": 7,
   "id": "123e3793",
   "metadata": {
    "scrolled": true
   },
   "outputs": [
    {
     "data": {
      "text/html": [
       "<div>\n",
       "<style scoped>\n",
       "    .dataframe tbody tr th:only-of-type {\n",
       "        vertical-align: middle;\n",
       "    }\n",
       "\n",
       "    .dataframe tbody tr th {\n",
       "        vertical-align: top;\n",
       "    }\n",
       "\n",
       "    .dataframe thead tr th {\n",
       "        text-align: left;\n",
       "    }\n",
       "\n",
       "    .dataframe thead tr:last-of-type th {\n",
       "        text-align: right;\n",
       "    }\n",
       "</style>\n",
       "<table border=\"1\" class=\"dataframe\">\n",
       "  <thead>\n",
       "    <tr>\n",
       "      <th></th>\n",
       "      <th colspan=\"8\" halign=\"left\">price</th>\n",
       "    </tr>\n",
       "    <tr>\n",
       "      <th></th>\n",
       "      <th>count</th>\n",
       "      <th>mean</th>\n",
       "      <th>std</th>\n",
       "      <th>min</th>\n",
       "      <th>25%</th>\n",
       "      <th>50%</th>\n",
       "      <th>75%</th>\n",
       "      <th>max</th>\n",
       "    </tr>\n",
       "    <tr>\n",
       "      <th>bedroom</th>\n",
       "      <th></th>\n",
       "      <th></th>\n",
       "      <th></th>\n",
       "      <th></th>\n",
       "      <th></th>\n",
       "      <th></th>\n",
       "      <th></th>\n",
       "      <th></th>\n",
       "    </tr>\n",
       "  </thead>\n",
       "  <tbody>\n",
       "    <tr>\n",
       "      <th>1</th>\n",
       "      <td>115.0</td>\n",
       "      <td>946.069565</td>\n",
       "      <td>373.840235</td>\n",
       "      <td>300.0</td>\n",
       "      <td>750.00</td>\n",
       "      <td>800.0</td>\n",
       "      <td>1000.00</td>\n",
       "      <td>2000.0</td>\n",
       "    </tr>\n",
       "    <tr>\n",
       "      <th>2</th>\n",
       "      <td>18.0</td>\n",
       "      <td>1029.388889</td>\n",
       "      <td>219.838748</td>\n",
       "      <td>700.0</td>\n",
       "      <td>857.25</td>\n",
       "      <td>1000.0</td>\n",
       "      <td>1237.50</td>\n",
       "      <td>1400.0</td>\n",
       "    </tr>\n",
       "    <tr>\n",
       "      <th>3</th>\n",
       "      <td>1.0</td>\n",
       "      <td>566.000000</td>\n",
       "      <td>NaN</td>\n",
       "      <td>566.0</td>\n",
       "      <td>566.00</td>\n",
       "      <td>566.0</td>\n",
       "      <td>566.00</td>\n",
       "      <td>566.0</td>\n",
       "    </tr>\n",
       "    <tr>\n",
       "      <th>4</th>\n",
       "      <td>2.0</td>\n",
       "      <td>812.500000</td>\n",
       "      <td>17.677670</td>\n",
       "      <td>800.0</td>\n",
       "      <td>806.25</td>\n",
       "      <td>812.5</td>\n",
       "      <td>818.75</td>\n",
       "      <td>825.0</td>\n",
       "    </tr>\n",
       "    <tr>\n",
       "      <th>5</th>\n",
       "      <td>3.0</td>\n",
       "      <td>735.000000</td>\n",
       "      <td>62.649820</td>\n",
       "      <td>675.0</td>\n",
       "      <td>702.50</td>\n",
       "      <td>730.0</td>\n",
       "      <td>765.00</td>\n",
       "      <td>800.0</td>\n",
       "    </tr>\n",
       "  </tbody>\n",
       "</table>\n",
       "</div>"
      ],
      "text/plain": [
       "         price                                                           \\\n",
       "         count         mean         std    min     25%     50%      75%   \n",
       "bedroom                                                                   \n",
       "1        115.0   946.069565  373.840235  300.0  750.00   800.0  1000.00   \n",
       "2         18.0  1029.388889  219.838748  700.0  857.25  1000.0  1237.50   \n",
       "3          1.0   566.000000         NaN  566.0  566.00   566.0   566.00   \n",
       "4          2.0   812.500000   17.677670  800.0  806.25   812.5   818.75   \n",
       "5          3.0   735.000000   62.649820  675.0  702.50   730.0   765.00   \n",
       "\n",
       "                 \n",
       "            max  \n",
       "bedroom          \n",
       "1        2000.0  \n",
       "2        1400.0  \n",
       "3         566.0  \n",
       "4         825.0  \n",
       "5         800.0  "
      ]
     },
     "execution_count": 7,
     "metadata": {},
     "output_type": "execute_result"
    }
   ],
   "source": [
    "# by_bedroom = df.groupby('bedroom')\n",
    "df.groupby('bedroom').describe()"
   ]
  },
  {
   "cell_type": "code",
   "execution_count": 8,
   "id": "38fae848",
   "metadata": {},
   "outputs": [],
   "source": [
    "by_bedroom = df.groupby('bedroom')"
   ]
  },
  {
   "cell_type": "code",
   "execution_count": 9,
   "id": "3b4d27d9",
   "metadata": {},
   "outputs": [],
   "source": [
    "bedroom_labels = []\n",
    "bedroom_values = []\n",
    "price_by_bedroom = {}"
   ]
  },
  {
   "cell_type": "code",
   "execution_count": 10,
   "id": "e88a520b",
   "metadata": {
    "scrolled": true
   },
   "outputs": [],
   "source": [
    "for idx, frame in by_bedroom:\n",
    "    bedroom_labels.append(idx)\n",
    "    bedroom_values.append(by_bedroom.size()[idx])\n",
    "    \n",
    "    price_by_bedroom[idx] = by_bedroom.mean().loc[idx, 'price']"
   ]
  },
  {
   "cell_type": "code",
   "execution_count": 11,
   "id": "bfe88d52",
   "metadata": {
    "scrolled": true
   },
   "outputs": [
    {
     "data": {
      "text/plain": [
       "{1: 946.0695652173913, 2: 1029.388888888889, 3: 566.0, 4: 812.5, 5: 735.0}"
      ]
     },
     "execution_count": 11,
     "metadata": {},
     "output_type": "execute_result"
    }
   ],
   "source": [
    "price_by_bedroom"
   ]
  },
  {
   "cell_type": "code",
   "execution_count": 12,
   "id": "333b0d86",
   "metadata": {},
   "outputs": [],
   "source": [
    "def custom_autopct(pct): \n",
    "    return '{:.1f}%'.format(pct) if pct >= 5 else ''\n",
    "#     return '{:.1f}%'.format(pct) if pct >= 10 else '{:.0f}%'.format(pct)\n",
    "#     return '{:.1f}%'.format(pct) if pct >= 5 else ''"
   ]
  },
  {
   "cell_type": "code",
   "execution_count": 13,
   "id": "1cee00f8",
   "metadata": {},
   "outputs": [
    {
     "data": {
      "text/plain": [
       "[115, 18, 1, 2, 3]"
      ]
     },
     "execution_count": 13,
     "metadata": {},
     "output_type": "execute_result"
    }
   ],
   "source": [
    "bedroom_values # count for each bedroom"
   ]
  },
  {
   "cell_type": "code",
   "execution_count": 14,
   "id": "f43f2160",
   "metadata": {},
   "outputs": [
    {
     "data": {
      "text/plain": [
       "139"
      ]
     },
     "execution_count": 14,
     "metadata": {},
     "output_type": "execute_result"
    }
   ],
   "source": [
    "total_bedrooms = sum(bedroom_values)\n",
    "total_bedrooms"
   ]
  },
  {
   "cell_type": "code",
   "execution_count": 15,
   "id": "5210fc7a",
   "metadata": {
    "scrolled": true
   },
   "outputs": [
    {
     "data": {
      "image/png": "[encoded data removed]",
      "text/plain": [
       "<Figure size 432x288 with 1 Axes>"
      ]
     },
     "metadata": {},
     "output_type": "display_data"
    }
   ],
   "source": [
    "colors = ['#8ecae6', '#219ebc', '#023047', '#ffb703', '#fb8500']\n",
    "explode = [0.03] * 5\n",
    "labels = [str(s) + ' beds' for s in bedroom_labels]\n",
    "wedgeprops = {'width': 0.6, 'edgecolor':'w', 'linewidth':1.5}\n",
    "plt.pie(bedroom_values, labels=labels, colors=colors, autopct=custom_autopct, explode=explode, wedgeprops=wedgeprops, pctdistance=0.7)\n",
    "plt.title(\"Number of Bedrooms\")\n",
    "\n",
    "bedroom_percent = (bedroom_values / total_bedrooms) * 100\n",
    "legend_labels = [f'{l}, {s:0.1f}%' for l, s in zip(labels, bedroom_percent)]\n",
    "plt.legend(loc=(0.8, 0.6), labels=legend_labels)\n",
    "\n",
    "plt.savefig('Graphs/byBedroom.png', dpi=100)\n",
    "plt.show()"
   ]
  },
  {
   "cell_type": "code",
   "execution_count": 16,
   "id": "324d06bb",
   "metadata": {
    "scrolled": true
   },
   "outputs": [
    {
     "data": {
      "image/png": "[encoded data removed]",
      "text/plain": [
       "<Figure size 432x288 with 1 Axes>"
      ]
     },
     "metadata": {
      "needs_background": "light"
     },
     "output_type": "display_data"
    }
   ],
   "source": [
    "plt.bar(price_by_bedroom.keys(), price_by_bedroom.values(), color='#ffcb77')\n",
    "plt.ylim(0, 1400)\n",
    "plt.title(\"Average Price by Number of total bedrooms\")\n",
    "plt.xlabel('Number of bedrooms')\n",
    "plt.ylabel('Price per bed ($)')\n",
    "plt.savefig('Graphs/priceByBedroom.png', dpi=100)\n",
    "plt.show()"
   ]
  },
  {
   "cell_type": "code",
   "execution_count": 17,
   "id": "5722743d",
   "metadata": {},
   "outputs": [],
   "source": [
    "searchCount = df[df['isLookingFor'] == True].shape[0]\n",
    "offerCount = df[df['isLookingFor'] == False].shape[0]"
   ]
  },
  {
   "cell_type": "code",
   "execution_count": 18,
   "id": "53d0fc3d",
   "metadata": {
    "scrolled": true
   },
   "outputs": [
    {
     "data": {
      "image/png": "[encoded data removed]",
      "text/plain": [
       "<Figure size 432x288 with 1 Axes>"
      ]
     },
     "metadata": {},
     "output_type": "display_data"
    }
   ],
   "source": [
    "my_values = [searchCount, offerCount]\n",
    "my_labels = ['Searches', 'Offers']\n",
    "colors = ['#f4845f', '#f7b267']\n",
    "explode = [0.03] * 2\n",
    "wedgeprops = {'width': 0.7, 'edgecolor':'w', 'linewidth':2}\n",
    "textprops = {\"fontsize\":12}\n",
    "plt.pie(my_values, labels=my_labels, explode=explode, autopct = \"%0.1f%%\", colors=colors, wedgeprops=wedgeprops, textprops=textprops)\n",
    "plt.title('Number of Searches vs. Offers', )\n",
    "plt.legend(loc=(0.8, 0.8))\n",
    "plt.savefig('Graphs/compare_searches_offers.png', dpi=100)\n",
    "plt.show()"
   ]
  },
  {
   "cell_type": "code",
   "execution_count": 19,
   "id": "1d09e007",
   "metadata": {
    "scrolled": false
   },
   "outputs": [],
   "source": [
    "# a new dataframe to store average price, for Searches and Offers individually\n",
    "avg_price = pd.DataFrame(bedroom_labels, columns=['bedroom'])"
   ]
  },
  {
   "cell_type": "code",
   "execution_count": 20,
   "id": "f5f07a87",
   "metadata": {
    "scrolled": false
   },
   "outputs": [],
   "source": [
    "df_searches = df.groupby('isLookingFor').get_group(True).groupby('bedroom').mean()['price']\n",
    "df_offers = df.groupby('isLookingFor').get_group(False).groupby('bedroom').mean()['price']"
   ]
  },
  {
   "cell_type": "code",
   "execution_count": 21,
   "id": "4e07fcf4",
   "metadata": {},
   "outputs": [
    {
     "data": {
      "text/plain": [
       "(566.0, 1109.875)"
      ]
     },
     "execution_count": 21,
     "metadata": {},
     "output_type": "execute_result"
    }
   ],
   "source": [
    "# min and max calculated to be used in the bar graph later (we want this here before inserting zeros)\n",
    "min_price = min(list(df_searches) + list(df_offers))\n",
    "max_price = max(list(df_searches) + list(df_offers))\n",
    "min_price, max_price"
   ]
  },
  {
   "cell_type": "code",
   "execution_count": 22,
   "id": "9a05b9d6",
   "metadata": {},
   "outputs": [],
   "source": [
    "avg_price['Searches'] = np.arange(5)\n",
    "avg_price['Offers'] = np.arange(5)\n",
    "\n",
    "for i, value in enumerate(bedroom_labels):\n",
    "    if value in df_searches.index:\n",
    "        avg_price.iloc[i, 1] = round(df_searches[value], 1)\n",
    "    else: \n",
    "        avg_price.iloc[i, 1] = 0\n",
    "        \n",
    "    if value in df_offers.index:\n",
    "        avg_price.iloc[i, 2] = round(df_offers[value], 1)\n",
    "    else:\n",
    "        avg_price.iloc[i, 2] = 0"
   ]
  },
  {
   "cell_type": "code",
   "execution_count": 23,
   "id": "8dc6cf30",
   "metadata": {},
   "outputs": [
    {
     "data": {
      "text/html": [
       "<div>\n",
       "<style scoped>\n",
       "    .dataframe tbody tr th:only-of-type {\n",
       "        vertical-align: middle;\n",
       "    }\n",
       "\n",
       "    .dataframe tbody tr th {\n",
       "        vertical-align: top;\n",
       "    }\n",
       "\n",
       "    .dataframe thead th {\n",
       "        text-align: right;\n",
       "    }\n",
       "</style>\n",
       "<table border=\"1\" class=\"dataframe\">\n",
       "  <thead>\n",
       "    <tr style=\"text-align: right;\">\n",
       "      <th></th>\n",
       "      <th>bedroom</th>\n",
       "      <th>Searches</th>\n",
       "      <th>Offers</th>\n",
       "    </tr>\n",
       "  </thead>\n",
       "  <tbody>\n",
       "    <tr>\n",
       "      <th>0</th>\n",
       "      <td>1</td>\n",
       "      <td>971.5</td>\n",
       "      <td>903.5</td>\n",
       "    </tr>\n",
       "    <tr>\n",
       "      <th>1</th>\n",
       "      <td>2</td>\n",
       "      <td>965.0</td>\n",
       "      <td>1109.9</td>\n",
       "    </tr>\n",
       "    <tr>\n",
       "      <th>2</th>\n",
       "      <td>3</td>\n",
       "      <td>566.0</td>\n",
       "      <td>0.0</td>\n",
       "    </tr>\n",
       "    <tr>\n",
       "      <th>3</th>\n",
       "      <td>4</td>\n",
       "      <td>825.0</td>\n",
       "      <td>800.0</td>\n",
       "    </tr>\n",
       "    <tr>\n",
       "      <th>4</th>\n",
       "      <td>5</td>\n",
       "      <td>765.0</td>\n",
       "      <td>675.0</td>\n",
       "    </tr>\n",
       "  </tbody>\n",
       "</table>\n",
       "</div>"
      ],
      "text/plain": [
       "   bedroom  Searches  Offers\n",
       "0        1     971.5   903.5\n",
       "1        2     965.0  1109.9\n",
       "2        3     566.0     0.0\n",
       "3        4     825.0   800.0\n",
       "4        5     765.0   675.0"
      ]
     },
     "execution_count": 23,
     "metadata": {},
     "output_type": "execute_result"
    }
   ],
   "source": [
    "avg_price"
   ]
  },
  {
   "cell_type": "code",
   "execution_count": 24,
   "id": "a60dbafe",
   "metadata": {
    "scrolled": true
   },
   "outputs": [
    {
     "data": {
      "image/png": "[encoded data removed]",
      "text/plain": [
       "<Figure size 576x360 with 1 Axes>"
      ]
     },
     "metadata": {
      "needs_background": "light"
     },
     "output_type": "display_data"
    }
   ],
   "source": [
    "plt.figure(figsize=(8, 5))\n",
    "plt.title('Rent Price by # of Total bedrooms in the unit')\n",
    "\n",
    "searches_bar = plt.bar(bedroom_labels, avg_price['Searches'], width=-0.4, align='edge', label='Searches', color='#f4845f')\n",
    "offers_bar = plt.bar(bedroom_labels, avg_price['Offers'], width=0.4, align='edge', label='Offers', color='#f7b267')\n",
    "\n",
    "plt.ylim(min_price - 100, max_price + 100)\n",
    "plt.legend(ncol=1, prop={'size': 12}, loc=1)\n",
    "plt.savefig('Graphs/compare_price_searches_offers.png', dpi=100)\n",
    "plt.xlabel('Number of bedrooms')\n",
    "plt.ylabel('Price per bedroom ($)')\n",
    "\n",
    "for idx, rect in enumerate(searches_bar): \n",
    "    if rect.get_height():\n",
    "        plt.text(idx+0.78, rect.get_height() + 15, avg_price['Searches'][idx], ha='center', color='black')\n",
    "\n",
    "for idx, rect in enumerate(offers_bar):\n",
    "    if rect.get_height():\n",
    "        plt.text(idx+1.2, rect.get_height() + 15, avg_price['Offers'][idx], ha='center', color='black')\n",
    "\n",
    "plt.show()"
   ]
  }
 ],
 "metadata": {
  "kernelspec": {
   "display_name": "Python 3 (ipykernel)",
   "language": "python",
   "name": "python3"
  },
  "language_info": {
   "codemirror_mode": {
    "name": "ipython",
    "version": 3
   },
   "file_extension": ".py",
   "mimetype": "text/x-python",
   "name": "python",
   "nbconvert_exporter": "python",
   "pygments_lexer": "ipython3",
   "version": "3.9.12"
  }
 },
 "nbformat": 4,
 "nbformat_minor": 5
}
