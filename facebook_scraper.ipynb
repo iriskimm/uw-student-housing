{
 "cells": [
  {
   "cell_type": "code",
   "execution_count": 1,
   "id": "e812c3bb",
   "metadata": {
    "scrolled": true
   },
   "outputs": [],
   "source": [
    "import selenium\n",
    "from selenium import webdriver\n",
    "from selenium.webdriver.common.by import By\n",
    "from selenium.webdriver.common.keys import Keys\n",
    "from selenium.webdriver.chrome.options import Options\n",
    "from selenium.webdriver.support import expected_conditions as EC\n",
    "from selenium.webdriver.support.wait import WebDriverWait\n",
    "from selenium.webdriver.support.ui import Select\n",
    "# from webdriver_manager.chrome import ChromeDriverManager\n",
    "from datetime import datetime\n",
    "from time import sleep\n",
    "from bs4 import BeautifulSoup\n",
    "import pandas as pd\n",
    "import config"
   ]
  },
  {
   "cell_type": "code",
   "execution_count": 2,
   "id": "cdf9b1d8",
   "metadata": {},
   "outputs": [],
   "source": [
    "# disable notifications\n",
    "chrome_options = Options()\n",
    "chrome_options.add_argument(\"--disable-notifications\")"
   ]
  },
  {
   "cell_type": "code",
   "execution_count": 4,
   "id": "b50047b9",
   "metadata": {
    "scrolled": true
   },
   "outputs": [
    {
     "name": "stderr",
     "output_type": "stream",
     "text": [
      "/var/folders/jf/mzp0fx9j59z164nkct92ngcc0000gn/T/ipykernel_3310/1491786706.py:2: DeprecationWarning: executable_path has been deprecated, please pass in a Service object\n",
      "  driver = webdriver.Chrome(\"/Users/iriskim/code/chromedriver\", options=chrome_options)\n"
     ]
    }
   ],
   "source": [
    "# open the facebook group (Student Housing in Waterloo)\n",
    "driver = webdriver.Chrome(\"/Users/iriskim/code/chromedriver\", options=chrome_options)\n",
    "driver.get(\"https://www.facebook.com\")"
   ]
  },
  {
   "cell_type": "code",
   "execution_count": 5,
   "id": "cbea11f9",
   "metadata": {},
   "outputs": [],
   "source": [
    "# Log in using my credentials\n",
    "username = WebDriverWait(driver, 5).until(EC.element_to_be_clickable((By.CSS_SELECTOR, \"input[name='email']\")))\n",
    "password = WebDriverWait(driver, 5).until(EC.element_to_be_clickable((By.CSS_SELECTOR, \"input[name='pass']\")))\n",
    "\n",
    "# my_username and my_password should be replaced with your own unique values\n",
    "username.clear()\n",
    "username.send_keys(config.my_username) \n",
    "password.clear()\n",
    "password.send_keys(config.my_password)\n",
    "button = WebDriverWait(driver, 2).until(EC.element_to_be_clickable((By.CSS_SELECTOR, \"button[type='submit']\"))).click()"
   ]
  },
  {
   "cell_type": "code",
   "execution_count": 6,
   "id": "1dc48342",
   "metadata": {},
   "outputs": [],
   "source": [
    "driver.get('https://www.facebook.com/groups/110354088989367')\n",
    "sleep(10)"
   ]
  },
  {
   "cell_type": "code",
   "execution_count": 7,
   "id": "434ef624",
   "metadata": {},
   "outputs": [],
   "source": [
    "for j in range(0,3):\n",
    "    driver.execute_script(\"window.scrollTo(0, document.body.scrollHeight);\")\n",
    "    sleep(5)"
   ]
  },
  {
   "cell_type": "code",
   "execution_count": 8,
   "id": "8c7200bf",
   "metadata": {},
   "outputs": [],
   "source": [
    "soup = BeautifulSoup(driver.page_source, \"html.parser\")\n",
    "all_posts = soup.find_all('div', attrs={'class':'du4w35lb k4urcfbm l9j0dhe7 sjgh65i0'})"
   ]
  },
  {
   "cell_type": "code",
   "execution_count": 9,
   "id": "e012f74a",
   "metadata": {},
   "outputs": [
    {
     "data": {
      "text/plain": [
       "22"
      ]
     },
     "execution_count": 9,
     "metadata": {},
     "output_type": "execute_result"
    }
   ],
   "source": [
    "len(all_posts) # 282 posts when scrolled 50 times - range(0, 50)"
   ]
  },
  {
   "cell_type": "code",
   "execution_count": 10,
   "id": "7eff6e50",
   "metadata": {},
   "outputs": [
    {
     "name": "stdout",
     "output_type": "stream",
     "text": [
      "1 <class 'str'>\n",
      "1 <class 'str'>\n",
      "1 <class 'str'>\n",
      "750 <class 'str'>\n",
      "150 <class 'str'>\n",
      "750 <class 'str'>\n",
      "1 <class 'str'>\n",
      " <class 'str'>\n",
      "800 <class 'str'>\n",
      "1200 <class 'str'>\n",
      " <class 'str'>\n",
      " <class 'str'>\n",
      "500 <class 'str'>\n",
      "1 <class 'str'>\n",
      "2000 <class 'str'>\n",
      "900 <class 'str'>\n",
      "800 <class 'str'>\n",
      "800 <class 'str'>\n",
      "1000 <class 'str'>\n",
      "800 <class 'str'>\n",
      "1200 <class 'str'>\n",
      "1 <class 'str'>\n"
     ]
    }
   ],
   "source": [
    "for post in all_posts: \n",
    "    price_text = post.find('span', attrs={'class': 'sqxagodl'}).find('div').getText()\n",
    "    price = ''.join([n for n in price_text.split()[0] if n.isdigit()])\n",
    "    print(price, type(price))"
   ]
  }
 ],
 "metadata": {
  "kernelspec": {
   "display_name": "Python 3 (ipykernel)",
   "language": "python",
   "name": "python3"
  },
  "language_info": {
   "codemirror_mode": {
    "name": "ipython",
    "version": 3
   },
   "file_extension": ".py",
   "mimetype": "text/x-python",
   "name": "python",
   "nbconvert_exporter": "python",
   "pygments_lexer": "ipython3",
   "version": "3.9.12"
  }
 },
 "nbformat": 4,
 "nbformat_minor": 5
}
