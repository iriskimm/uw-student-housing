{
 "cells": [
  {
   "cell_type": "code",
   "execution_count": null,
   "id": "e812c3bb",
   "metadata": {
    "scrolled": true
   },
   "outputs": [],
   "source": [
    "import selenium\n",
    "from selenium import webdriver\n",
    "from selenium.webdriver.common.by import By\n",
    "from selenium.webdriver.common.keys import Keys\n",
    "from selenium.webdriver.chrome.options import Options\n",
    "from selenium.webdriver.support import expected_conditions as EC\n",
    "from selenium.webdriver.support.wait import WebDriverWait\n",
    "from selenium.webdriver.support.ui import Select\n",
    "from datetime import datetime\n",
    "from time import sleep\n",
    "from bs4 import BeautifulSoup\n",
    "import re\n",
    "import pandas as pd\n",
    "import matplotlib.pyplot as plt\n",
    "import config"
   ]
  },
  {
   "cell_type": "code",
   "execution_count": null,
   "id": "cdf9b1d8",
   "metadata": {},
   "outputs": [],
   "source": [
    "# disable notifications\n",
    "chrome_options = Options()\n",
    "chrome_options.add_argument(\"--disable-notifications\")"
   ]
  },
  {
   "cell_type": "code",
   "execution_count": null,
   "id": "b50047b9",
   "metadata": {
    "scrolled": true
   },
   "outputs": [],
   "source": [
    "# open the facebook group (Student Housing in Waterloo)\n",
    "# NOTE: replace path_to_chromedriver with your own path\n",
    "driver = webdriver.Chrome(config.path_to_chromedriver, options=chrome_options) \n",
    "driver.get(\"https://www.facebook.com\")"
   ]
  },
  {
   "cell_type": "code",
   "execution_count": null,
   "id": "8def0495",
   "metadata": {},
   "outputs": [],
   "source": [
    "# Log in using my credentials\n",
    "username = WebDriverWait(driver, 5).until(EC.element_to_be_clickable((By.CSS_SELECTOR, \"input[name='email']\")))\n",
    "password = WebDriverWait(driver, 5).until(EC.element_to_be_clickable((By.CSS_SELECTOR, \"input[name='pass']\")))\n",
    "\n",
    "# my_username and my_password should be replaced with your own unique values\n",
    "username.clear()\n",
    "username.send_keys(config.my_username) \n",
    "password.clear()\n",
    "password.send_keys(config.my_password)\n",
    "button = WebDriverWait(driver, 2).until(EC.element_to_be_clickable((By.CSS_SELECTOR, \"button[type='submit']\"))).click()\n",
    "sleep(8)"
   ]
  },
  {
   "cell_type": "code",
   "execution_count": null,
   "id": "8178c28d",
   "metadata": {},
   "outputs": [],
   "source": [
    "driver.get('https://www.facebook.com/groups/110354088989367')\n",
    "sleep(8)"
   ]
  },
  {
   "cell_type": "code",
   "execution_count": null,
   "id": "1dd8ee6f",
   "metadata": {},
   "outputs": [],
   "source": [
    "for j in range(0,30):\n",
    "    driver.execute_script(\"window.scrollTo(0, document.body.scrollHeight);\")\n",
    "    sleep(5)"
   ]
  },
  {
   "cell_type": "code",
   "execution_count": null,
   "id": "886cc5ea",
   "metadata": {},
   "outputs": [],
   "source": [
    "soup = BeautifulSoup(driver.page_source, \"html.parser\")\n",
    "all_posts = soup.find_all('div', attrs={'class':'du4w35lb k4urcfbm l9j0dhe7 sjgh65i0'})"
   ]
  },
  {
   "cell_type": "code",
   "execution_count": null,
   "id": "7cea5d6e",
   "metadata": {},
   "outputs": [],
   "source": [
    "len(all_posts) # 282 posts when scrolled 50 times - range(0, 50)"
   ]
  },
  {
   "cell_type": "code",
   "execution_count": null,
   "id": "f43e9ad9",
   "metadata": {},
   "outputs": [],
   "source": [
    "def get_bedrooms(my_str):\n",
    "    d1 = re.search('([^ \\r\\n]+) beds?', my_str, re.IGNORECASE)\n",
    "    d2 = re.search('([^ \\r\\n]+) bedrooms?', my_str, re.IGNORECASE)\n",
    "    if d1:\n",
    "        print('hi')\n",
    "        bedroom = d1.group(0)\n",
    "    elif d2:\n",
    "        bedroom = d2.group(0)\n",
    "    else:\n",
    "        bedroom = 1 # one bedroom by default if not specified\n",
    "    return bedroom"
   ]
  },
  {
   "cell_type": "code",
   "execution_count": null,
   "id": "01c5ecfd",
   "metadata": {},
   "outputs": [],
   "source": [
    "msg = '2 Beds 1 Bath - Apartment203 Albert St, Waterloo, ON N2L 3T4, Canada'\n",
    "print('bedroom:', get_bedrooms(msg))"
   ]
  },
  {
   "cell_type": "code",
   "execution_count": null,
   "id": "5a592550",
   "metadata": {},
   "outputs": [],
   "source": [
    "def is_looking(my_str):\n",
    "    my_str = my_str.lower()\n",
    "    if 'looking' in my_str:\n",
    "        return True\n",
    "    elif 'available' or 'offer' in my_str:\n",
    "        return False\n",
    "    else:\n",
    "        return None"
   ]
  },
  {
   "cell_type": "code",
   "execution_count": null,
   "id": "5a54987e",
   "metadata": {},
   "outputs": [],
   "source": [
    "price_list = []\n",
    "bedrooms_list = []\n",
    "isLookingFor_list = []"
   ]
  },
  {
   "cell_type": "code",
   "execution_count": null,
   "id": "2be0d148",
   "metadata": {
    "scrolled": true
   },
   "outputs": [],
   "source": [
    "for post in all_posts: \n",
    "    price_text = post.find('span', attrs={'class': 'sqxagodl'}).find('div').getText()\n",
    "    price = ''.join([n for n in price_text.split()[0] if n.isdigit()])\n",
    "    if not price: \n",
    "        price = 0\n",
    "#     print(price, type(price))\n",
    "    \n",
    "    message = post.find('div', attrs={'data-ad-comet-preview':'message'})\n",
    "#     message = post.find('div', attrs={'class':'kvgmc6g5 cxmmr5t8 oygrvhab hcukyx3x c1et5uql ii04i59q'})\n",
    "    if message: \n",
    "        message = str(message.getText())\n",
    "    else:\n",
    "        message = ''\n",
    "        \n",
    "    bedroom_text = get_bedrooms(message)\n",
    "    bedroom = ''.join([n for n in str(bedroom_text).split()[0] if n.isdigit()])\n",
    "    print(message)\n",
    "    print('- bedrooms: ', bedroom)\n",
    "    if not bedroom: \n",
    "        bedroom = 1\n",
    "#     print('Number of bedrooms:', bedroom)\n",
    "\n",
    "    if int(price) >= 1600:\n",
    "        price = int(price) // int(bedroom)\n",
    "        \n",
    "    price_list.append(int(price))\n",
    "    bedrooms_list.append(int(bedroom))\n",
    "    isLookingFor_list.append(is_looking(message))"
   ]
  },
  {
   "cell_type": "code",
   "execution_count": null,
   "id": "957b9893",
   "metadata": {
    "scrolled": false
   },
   "outputs": [],
   "source": [
    "price_list[:10], bedrooms_list[:10], isLookingFor_list[:10]"
   ]
  },
  {
   "cell_type": "code",
   "execution_count": null,
   "id": "15b21a55",
   "metadata": {},
   "outputs": [],
   "source": [
    "len(price_list), len(bedrooms_list)"
   ]
  },
  {
   "cell_type": "code",
   "execution_count": null,
   "id": "11b931c1",
   "metadata": {},
   "outputs": [],
   "source": [
    "data = {'price': price_list, 'bedroom': bedrooms_list, 'isLookingFor': isLookingFor_list}"
   ]
  },
  {
   "cell_type": "code",
   "execution_count": null,
   "id": "5eae4b27",
   "metadata": {},
   "outputs": [],
   "source": [
    "[isinstance(item, int) for item in bedrooms_list[:5]]"
   ]
  },
  {
   "cell_type": "code",
   "execution_count": null,
   "id": "a568432b",
   "metadata": {
    "scrolled": true
   },
   "outputs": [],
   "source": [
    "df = pd.DataFrame(data)\n",
    "df.to_excel('housing_list.xlsx', index=False)\n",
    "df.head()"
   ]
  },
  {
   "cell_type": "code",
   "execution_count": null,
   "id": "954e71f4",
   "metadata": {},
   "outputs": [],
   "source": [
    "df.drop(df[(df.price < 300) | (df.price > 5000)].index, inplace=True)\n",
    "df.drop(df[df.bedroom > 7].index, inplace=True)\n",
    "# df.loc[df.my_channel > 20000, 'my_channel'] = 0"
   ]
  },
  {
   "cell_type": "code",
   "execution_count": null,
   "id": "20415fb1",
   "metadata": {
    "scrolled": true
   },
   "outputs": [],
   "source": [
    "df.groupby('isLookingFor').get_group(True).groupby('bedroom').describe()"
   ]
  },
  {
   "cell_type": "code",
   "execution_count": null,
   "id": "600ddb79",
   "metadata": {
    "scrolled": true
   },
   "outputs": [],
   "source": [
    "df.groupby('bedroom').get_group(2)"
   ]
  },
  {
   "cell_type": "code",
   "execution_count": null,
   "id": "123e3793",
   "metadata": {},
   "outputs": [],
   "source": [
    "# by_bedroom = df.groupby('bedroom')\n",
    "df.groupby('bedroom').describe()"
   ]
  },
  {
   "cell_type": "code",
   "execution_count": null,
   "id": "755ab9ea",
   "metadata": {
    "scrolled": true
   },
   "outputs": [],
   "source": [
    "df.groupby('bedroom').describe()"
   ]
  },
  {
   "cell_type": "code",
   "execution_count": null,
   "id": "38fae848",
   "metadata": {},
   "outputs": [],
   "source": [
    "by_bedroom = df.groupby('bedroom')"
   ]
  },
  {
   "cell_type": "code",
   "execution_count": null,
   "id": "3b4d27d9",
   "metadata": {},
   "outputs": [],
   "source": [
    "bedroom_labels = []\n",
    "bedroom_values = []\n",
    "\n",
    "price_by_bedroom = {}"
   ]
  },
  {
   "cell_type": "code",
   "execution_count": null,
   "id": "7e2a3f2a",
   "metadata": {},
   "outputs": [],
   "source": [
    "by_bedroom"
   ]
  },
  {
   "cell_type": "code",
   "execution_count": null,
   "id": "e88a520b",
   "metadata": {
    "scrolled": true
   },
   "outputs": [],
   "source": [
    "for idx, frame in by_bedroom:\n",
    "    bedroom_labels.append(idx)\n",
    "    bedroom_values.append(by_bedroom.size()[idx])\n",
    "    \n",
    "    price_by_bedroom[idx] = by_bedroom.mean().loc[idx, 'price']\n",
    "#     print(f\"{by_bedroom.get_group(idx)}\")\n",
    "#     print(\"------------------------\")"
   ]
  },
  {
   "cell_type": "code",
   "execution_count": null,
   "id": "bfe88d52",
   "metadata": {
    "scrolled": true
   },
   "outputs": [],
   "source": [
    "price_by_bedroom"
   ]
  },
  {
   "cell_type": "code",
   "execution_count": null,
   "id": "5210fc7a",
   "metadata": {
    "scrolled": true
   },
   "outputs": [],
   "source": [
    "colors = ['#ffadad', '#ffd6a5', '#fdffb6', '#caffbf']\n",
    "explode = [0.03] * 4\n",
    "wedgeprops = {'width': 0.6, 'edgecolor':'w', 'linewidth':2}\n",
    "plt.pie(bedroom_values, labels=bedroom_labels, colors=colors, explode=explode, wedgeprops=wedgeprops)\n",
    "plt.title(\"Number of Bedrooms\")\n",
    "plt.show()"
   ]
  },
  {
   "cell_type": "code",
   "execution_count": null,
   "id": "324d06bb",
   "metadata": {},
   "outputs": [],
   "source": [
    "plt.bar(price_by_bedroom.keys(), price_by_bedroom.values())\n",
    "plt.ylim(0, 4000)\n",
    "plt.title(\"Price by Number of bedrooms\")\n",
    "plt.xlabel('Number of bedrooms')\n",
    "plt.ylabel('Price')\n",
    "plt.show()"
   ]
  },
  {
   "cell_type": "markdown",
   "id": "d676ebac",
   "metadata": {},
   "source": [
    "#### other things to consider: \n",
    "- number of bedrooms\n",
    "- number of washrooms \n",
    "- number of roommates\n",
    "- location (how far from uw?)\n"
   ]
  }
 ],
 "metadata": {
  "kernelspec": {
   "display_name": "Python 3 (ipykernel)",
   "language": "python",
   "name": "python3"
  },
  "language_info": {
   "codemirror_mode": {
    "name": "ipython",
    "version": 3
   },
   "file_extension": ".py",
   "mimetype": "text/x-python",
   "name": "python",
   "nbconvert_exporter": "python",
   "pygments_lexer": "ipython3",
   "version": "3.9.12"
  }
 },
 "nbformat": 4,
 "nbformat_minor": 5
}
