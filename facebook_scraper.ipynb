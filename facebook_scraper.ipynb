{
 "cells": [
  {
   "cell_type": "code",
   "execution_count": 1,
   "id": "e812c3bb",
   "metadata": {
    "scrolled": true
   },
   "outputs": [],
   "source": [
    "import selenium\n",
    "from selenium import webdriver\n",
    "from selenium.webdriver.common.by import By\n",
    "from selenium.webdriver.common.keys import Keys\n",
    "from selenium.webdriver.chrome.options import Options\n",
    "from selenium.webdriver.support import expected_conditions as EC\n",
    "from selenium.webdriver.support.wait import WebDriverWait\n",
    "from selenium.webdriver.support.ui import Select\n",
    "from datetime import datetime\n",
    "from time import sleep\n",
    "from bs4 import BeautifulSoup\n",
    "import re\n",
    "import pandas as pd\n",
    "import matplotlib.pyplot as plt\n",
    "import config"
   ]
  },
  {
   "cell_type": "code",
   "execution_count": 2,
   "id": "cdf9b1d8",
   "metadata": {},
   "outputs": [],
   "source": [
    "# disable notifications\n",
    "chrome_options = Options()\n",
    "chrome_options.add_argument(\"--disable-notifications\")"
   ]
  },
  {
   "cell_type": "code",
   "execution_count": 3,
   "id": "b50047b9",
   "metadata": {
    "scrolled": true
   },
   "outputs": [
    {
     "name": "stderr",
     "output_type": "stream",
     "text": [
      "/var/folders/jf/mzp0fx9j59z164nkct92ngcc0000gn/T/ipykernel_8870/2693793491.py:3: DeprecationWarning: executable_path has been deprecated, please pass in a Service object\n",
      "  driver = webdriver.Chrome(config.path_to_chromedriver, options=chrome_options)\n"
     ]
    }
   ],
   "source": [
    "# open the facebook group (Student Housing in Waterloo)\n",
    "# NOTE: replace path_to_chromedriver with your own path\n",
    "driver = webdriver.Chrome(config.path_to_chromedriver, options=chrome_options) \n",
    "driver.get(\"https://www.facebook.com\")"
   ]
  },
  {
   "cell_type": "code",
   "execution_count": 4,
   "id": "8def0495",
   "metadata": {},
   "outputs": [],
   "source": [
    "# Log in using my credentials\n",
    "username = WebDriverWait(driver, 5).until(EC.element_to_be_clickable((By.CSS_SELECTOR, \"input[name='email']\")))\n",
    "password = WebDriverWait(driver, 5).until(EC.element_to_be_clickable((By.CSS_SELECTOR, \"input[name='pass']\")))\n",
    "\n",
    "# my_username and my_password should be replaced with your own unique values\n",
    "username.clear()\n",
    "username.send_keys(config.my_username) \n",
    "password.clear()\n",
    "password.send_keys(config.my_password)\n",
    "button = WebDriverWait(driver, 2).until(EC.element_to_be_clickable((By.CSS_SELECTOR, \"button[type='submit']\"))).click()\n",
    "sleep(8)"
   ]
  },
  {
   "cell_type": "code",
   "execution_count": 5,
   "id": "8178c28d",
   "metadata": {},
   "outputs": [],
   "source": [
    "driver.get('https://www.facebook.com/groups/110354088989367')\n",
    "sleep(8)"
   ]
  },
  {
   "cell_type": "code",
   "execution_count": 6,
   "id": "1dd8ee6f",
   "metadata": {},
   "outputs": [],
   "source": [
    "for j in range(0,5):\n",
    "    driver.execute_script(\"window.scrollTo(0, document.body.scrollHeight);\")\n",
    "    sleep(5)"
   ]
  },
  {
   "cell_type": "code",
   "execution_count": 7,
   "id": "886cc5ea",
   "metadata": {},
   "outputs": [],
   "source": [
    "soup = BeautifulSoup(driver.page_source, \"html.parser\")\n",
    "all_posts = soup.find_all('div', attrs={'class':'du4w35lb k4urcfbm l9j0dhe7 sjgh65i0'})"
   ]
  },
  {
   "cell_type": "code",
   "execution_count": 8,
   "id": "7cea5d6e",
   "metadata": {},
   "outputs": [
    {
     "data": {
      "text/plain": [
       "183"
      ]
     },
     "execution_count": 8,
     "metadata": {},
     "output_type": "execute_result"
    }
   ],
   "source": [
    "len(all_posts) # 282 posts when scrolled 50 times - range(0, 50)"
   ]
  },
  {
   "cell_type": "code",
   "execution_count": 31,
   "id": "f43e9ad9",
   "metadata": {},
   "outputs": [],
   "source": [
    "def get_bedrooms(my_str):\n",
    "    d1 = re.search('([^ \\r\\n]+) beds?', my_str, re.IGNORECASE)\n",
    "    d2 = re.search('([^ \\r\\n]+) bedrooms?', my_str, re.IGNORECASE)\n",
    "    if d1:\n",
    "        bedroom = d1.group(0)\n",
    "    elif d2:\n",
    "        bedroom = d2.group(0)\n",
    "    else:\n",
    "        bedroom = 1 # one bedroom by default if not specified\n",
    "    return bedroom"
   ]
  },
  {
   "cell_type": "code",
   "execution_count": 32,
   "id": "01624bca",
   "metadata": {},
   "outputs": [
    {
     "name": "stdout",
     "output_type": "stream",
     "text": [
      "bedroom: 2 Beds\n"
     ]
    }
   ],
   "source": [
    "# testing\n",
    "msg = '2 Beds 1 Bath - Apartment203 Albert St, Waterloo, ON N2L 3T4, Canada'\n",
    "print('bedroom:', get_bedrooms(msg))"
   ]
  },
  {
   "cell_type": "code",
   "execution_count": 33,
   "id": "7ba725ee",
   "metadata": {},
   "outputs": [],
   "source": [
    "def is_looking(my_str):\n",
    "    my_str = my_str.lower()\n",
    "    if 'looking' in my_str:\n",
    "        return True\n",
    "    elif 'available' or 'offer' in my_str:\n",
    "        return False\n",
    "    else:\n",
    "        return None"
   ]
  },
  {
   "cell_type": "code",
   "execution_count": 34,
   "id": "5a54987e",
   "metadata": {},
   "outputs": [],
   "source": [
    "price_list = []\n",
    "bedrooms_list = []\n",
    "isLookingFor_list = []"
   ]
  },
  {
   "cell_type": "code",
   "execution_count": 35,
   "id": "2be0d148",
   "metadata": {
    "scrolled": true
   },
   "outputs": [],
   "source": [
    "for post in all_posts: \n",
    "    price_text = post.find('span', attrs={'class': 'sqxagodl'}).find('div').getText()\n",
    "    price = ''.join([n for n in price_text.split()[0] if n.isdigit()])\n",
    "    if not price: \n",
    "        price = 0\n",
    "#     print(price, type(price))\n",
    "    \n",
    "    message = post.find('div', attrs={'data-ad-comet-preview':'message'})\n",
    "#     message = post.find('div', attrs={'class':'kvgmc6g5 cxmmr5t8 oygrvhab hcukyx3x c1et5uql ii04i59q'})\n",
    "    if message: \n",
    "        message = str(message.getText())\n",
    "    else:\n",
    "        message = ''\n",
    "        \n",
    "    bedroom_text = get_bedrooms(message)\n",
    "    bedroom = ''.join([n for n in str(bedroom_text).split()[0] if n.isdigit()])\n",
    "#     print(message)\n",
    "#     print('- bedrooms: ', bedroom)\n",
    "    if not bedroom: \n",
    "        bedroom = 1\n",
    "#     print('Number of bedrooms:', bedroom)\n",
    "\n",
    "    if int(price) >= 1600: # if price is above 1600, assume that it's total price for the entire unit\n",
    "        price = int(price) // int(bedroom)\n",
    "        \n",
    "    price_list.append(int(price))\n",
    "    bedrooms_list.append(int(bedroom))\n",
    "    isLookingFor_list.append(is_looking(message))"
   ]
  },
  {
   "cell_type": "code",
   "execution_count": 36,
   "id": "957b9893",
   "metadata": {
    "scrolled": false
   },
   "outputs": [
    {
     "data": {
      "text/plain": [
       "([1300, 750, 800, 0, 800, 650, 1, 550, 1, 800],\n",
       " [2, 1, 1, 20223, 1, 1, 12, 271, 1, 1],\n",
       " [False, False, True, False, True, False, True, False, True, True])"
      ]
     },
     "execution_count": 36,
     "metadata": {},
     "output_type": "execute_result"
    }
   ],
   "source": [
    "price_list[:10], bedrooms_list[:10], isLookingFor_list[:10]"
   ]
  },
  {
   "cell_type": "code",
   "execution_count": 15,
   "id": "15b21a55",
   "metadata": {},
   "outputs": [
    {
     "data": {
      "text/plain": [
       "(183, 183)"
      ]
     },
     "execution_count": 15,
     "metadata": {},
     "output_type": "execute_result"
    }
   ],
   "source": [
    "len(price_list), len(bedrooms_list)"
   ]
  },
  {
   "cell_type": "code",
   "execution_count": 16,
   "id": "11b931c1",
   "metadata": {},
   "outputs": [],
   "source": [
    "data = {'price': price_list, 'bedroom': bedrooms_list, 'isLookingFor': isLookingFor_list}"
   ]
  },
  {
   "cell_type": "code",
   "execution_count": 39,
   "id": "5eae4b27",
   "metadata": {},
   "outputs": [
    {
     "data": {
      "text/plain": [
       "[True, True, True, True, True]"
      ]
     },
     "execution_count": 39,
     "metadata": {},
     "output_type": "execute_result"
    }
   ],
   "source": [
    "# checking if all entires in the bedroom column are integers\n",
    "[isinstance(item, int) for item in bedrooms_list[:5]]"
   ]
  },
  {
   "cell_type": "code",
   "execution_count": 40,
   "id": "a568432b",
   "metadata": {
    "scrolled": true
   },
   "outputs": [
    {
     "data": {
      "text/html": [
       "<div>\n",
       "<style scoped>\n",
       "    .dataframe tbody tr th:only-of-type {\n",
       "        vertical-align: middle;\n",
       "    }\n",
       "\n",
       "    .dataframe tbody tr th {\n",
       "        vertical-align: top;\n",
       "    }\n",
       "\n",
       "    .dataframe thead th {\n",
       "        text-align: right;\n",
       "    }\n",
       "</style>\n",
       "<table border=\"1\" class=\"dataframe\">\n",
       "  <thead>\n",
       "    <tr style=\"text-align: right;\">\n",
       "      <th></th>\n",
       "      <th>price</th>\n",
       "      <th>bedroom</th>\n",
       "      <th>isLookingFor</th>\n",
       "    </tr>\n",
       "  </thead>\n",
       "  <tbody>\n",
       "    <tr>\n",
       "      <th>0</th>\n",
       "      <td>1300</td>\n",
       "      <td>2</td>\n",
       "      <td>False</td>\n",
       "    </tr>\n",
       "    <tr>\n",
       "      <th>1</th>\n",
       "      <td>750</td>\n",
       "      <td>1</td>\n",
       "      <td>False</td>\n",
       "    </tr>\n",
       "    <tr>\n",
       "      <th>2</th>\n",
       "      <td>800</td>\n",
       "      <td>1</td>\n",
       "      <td>True</td>\n",
       "    </tr>\n",
       "    <tr>\n",
       "      <th>3</th>\n",
       "      <td>0</td>\n",
       "      <td>20223</td>\n",
       "      <td>False</td>\n",
       "    </tr>\n",
       "    <tr>\n",
       "      <th>4</th>\n",
       "      <td>800</td>\n",
       "      <td>1</td>\n",
       "      <td>True</td>\n",
       "    </tr>\n",
       "  </tbody>\n",
       "</table>\n",
       "</div>"
      ],
      "text/plain": [
       "   price  bedroom  isLookingFor\n",
       "0   1300        2         False\n",
       "1    750        1         False\n",
       "2    800        1          True\n",
       "3      0    20223         False\n",
       "4    800        1          True"
      ]
     },
     "execution_count": 40,
     "metadata": {},
     "output_type": "execute_result"
    }
   ],
   "source": [
    "# df = pd.DataFrame(data)\n",
    "# df.to_excel('housing_list.xlsx', index=False)\n",
    "df.head()"
   ]
  },
  {
   "cell_type": "markdown",
   "id": "f34e40ef",
   "metadata": {},
   "source": [
    "### For now, just read from excel instead of scraping for convenience"
   ]
  },
  {
   "cell_type": "code",
   "execution_count": 60,
   "id": "e278103c",
   "metadata": {},
   "outputs": [],
   "source": [
    "df2 = pd.read_excel('housing_list.xlsx')"
   ]
  },
  {
   "cell_type": "code",
   "execution_count": 42,
   "id": "9c6510df",
   "metadata": {},
   "outputs": [],
   "source": [
    "# ignore some rows (since people might be either putting numbers like $1, $100, $123456, $999999, or might be looking for a parking spot)\n",
    "df.drop(df[(df.price < 300) | (df.price > 5000)].index, inplace=True)\n",
    "df.drop(df[df.bedroom > 7].index, inplace=True) # assume there are no more bedrooms than 7\n",
    "# df.loc[df.my_channel > 20000, 'my_channel'] = 0"
   ]
  },
  {
   "cell_type": "code",
   "execution_count": 43,
   "id": "53f471e1",
   "metadata": {
    "scrolled": false
   },
   "outputs": [
    {
     "data": {
      "text/html": [
       "<div>\n",
       "<style scoped>\n",
       "    .dataframe tbody tr th:only-of-type {\n",
       "        vertical-align: middle;\n",
       "    }\n",
       "\n",
       "    .dataframe tbody tr th {\n",
       "        vertical-align: top;\n",
       "    }\n",
       "\n",
       "    .dataframe thead tr th {\n",
       "        text-align: left;\n",
       "    }\n",
       "\n",
       "    .dataframe thead tr:last-of-type th {\n",
       "        text-align: right;\n",
       "    }\n",
       "</style>\n",
       "<table border=\"1\" class=\"dataframe\">\n",
       "  <thead>\n",
       "    <tr>\n",
       "      <th></th>\n",
       "      <th colspan=\"8\" halign=\"left\">price</th>\n",
       "    </tr>\n",
       "    <tr>\n",
       "      <th></th>\n",
       "      <th>count</th>\n",
       "      <th>mean</th>\n",
       "      <th>std</th>\n",
       "      <th>min</th>\n",
       "      <th>25%</th>\n",
       "      <th>50%</th>\n",
       "      <th>75%</th>\n",
       "      <th>max</th>\n",
       "    </tr>\n",
       "    <tr>\n",
       "      <th>bedroom</th>\n",
       "      <th></th>\n",
       "      <th></th>\n",
       "      <th></th>\n",
       "      <th></th>\n",
       "      <th></th>\n",
       "      <th></th>\n",
       "      <th></th>\n",
       "      <th></th>\n",
       "    </tr>\n",
       "  </thead>\n",
       "  <tbody>\n",
       "    <tr>\n",
       "      <th>1</th>\n",
       "      <td>114.0</td>\n",
       "      <td>943.263158</td>\n",
       "      <td>404.832295</td>\n",
       "      <td>300.0</td>\n",
       "      <td>750.0</td>\n",
       "      <td>800.0</td>\n",
       "      <td>1000.0</td>\n",
       "      <td>2500.0</td>\n",
       "    </tr>\n",
       "    <tr>\n",
       "      <th>2</th>\n",
       "      <td>16.0</td>\n",
       "      <td>1000.000000</td>\n",
       "      <td>161.245155</td>\n",
       "      <td>700.0</td>\n",
       "      <td>962.5</td>\n",
       "      <td>1000.0</td>\n",
       "      <td>1087.5</td>\n",
       "      <td>1200.0</td>\n",
       "    </tr>\n",
       "    <tr>\n",
       "      <th>4</th>\n",
       "      <td>2.0</td>\n",
       "      <td>825.000000</td>\n",
       "      <td>0.000000</td>\n",
       "      <td>825.0</td>\n",
       "      <td>825.0</td>\n",
       "      <td>825.0</td>\n",
       "      <td>825.0</td>\n",
       "      <td>825.0</td>\n",
       "    </tr>\n",
       "    <tr>\n",
       "      <th>5</th>\n",
       "      <td>2.0</td>\n",
       "      <td>800.000000</td>\n",
       "      <td>0.000000</td>\n",
       "      <td>800.0</td>\n",
       "      <td>800.0</td>\n",
       "      <td>800.0</td>\n",
       "      <td>800.0</td>\n",
       "      <td>800.0</td>\n",
       "    </tr>\n",
       "  </tbody>\n",
       "</table>\n",
       "</div>"
      ],
      "text/plain": [
       "         price                                                               \n",
       "         count         mean         std    min    25%     50%     75%     max\n",
       "bedroom                                                                      \n",
       "1        114.0   943.263158  404.832295  300.0  750.0   800.0  1000.0  2500.0\n",
       "2         16.0  1000.000000  161.245155  700.0  962.5  1000.0  1087.5  1200.0\n",
       "4          2.0   825.000000    0.000000  825.0  825.0   825.0   825.0   825.0\n",
       "5          2.0   800.000000    0.000000  800.0  800.0   800.0   800.0   800.0"
      ]
     },
     "execution_count": 43,
     "metadata": {},
     "output_type": "execute_result"
    }
   ],
   "source": [
    "df.groupby('isLookingFor').get_group(True).groupby('bedroom').describe()"
   ]
  },
  {
   "cell_type": "code",
   "execution_count": 44,
   "id": "d04b56a4",
   "metadata": {},
   "outputs": [
    {
     "data": {
      "text/html": [
       "<div>\n",
       "<style scoped>\n",
       "    .dataframe tbody tr th:only-of-type {\n",
       "        vertical-align: middle;\n",
       "    }\n",
       "\n",
       "    .dataframe tbody tr th {\n",
       "        vertical-align: top;\n",
       "    }\n",
       "\n",
       "    .dataframe thead tr th {\n",
       "        text-align: left;\n",
       "    }\n",
       "\n",
       "    .dataframe thead tr:last-of-type th {\n",
       "        text-align: right;\n",
       "    }\n",
       "</style>\n",
       "<table border=\"1\" class=\"dataframe\">\n",
       "  <thead>\n",
       "    <tr>\n",
       "      <th></th>\n",
       "      <th colspan=\"8\" halign=\"left\">price</th>\n",
       "    </tr>\n",
       "    <tr>\n",
       "      <th></th>\n",
       "      <th>count</th>\n",
       "      <th>mean</th>\n",
       "      <th>std</th>\n",
       "      <th>min</th>\n",
       "      <th>25%</th>\n",
       "      <th>50%</th>\n",
       "      <th>75%</th>\n",
       "      <th>max</th>\n",
       "    </tr>\n",
       "    <tr>\n",
       "      <th>bedroom</th>\n",
       "      <th></th>\n",
       "      <th></th>\n",
       "      <th></th>\n",
       "      <th></th>\n",
       "      <th></th>\n",
       "      <th></th>\n",
       "      <th></th>\n",
       "      <th></th>\n",
       "    </tr>\n",
       "  </thead>\n",
       "  <tbody>\n",
       "    <tr>\n",
       "      <th>1</th>\n",
       "      <td>62.0</td>\n",
       "      <td>882.967742</td>\n",
       "      <td>445.457987</td>\n",
       "      <td>300.0</td>\n",
       "      <td>612.5</td>\n",
       "      <td>795.0</td>\n",
       "      <td>943.75</td>\n",
       "      <td>2400.0</td>\n",
       "    </tr>\n",
       "    <tr>\n",
       "      <th>2</th>\n",
       "      <td>12.0</td>\n",
       "      <td>999.833333</td>\n",
       "      <td>376.838724</td>\n",
       "      <td>420.0</td>\n",
       "      <td>700.0</td>\n",
       "      <td>1089.5</td>\n",
       "      <td>1300.00</td>\n",
       "      <td>1400.0</td>\n",
       "    </tr>\n",
       "    <tr>\n",
       "      <th>4</th>\n",
       "      <td>4.0</td>\n",
       "      <td>650.000000</td>\n",
       "      <td>173.205081</td>\n",
       "      <td>500.0</td>\n",
       "      <td>500.0</td>\n",
       "      <td>650.0</td>\n",
       "      <td>800.00</td>\n",
       "      <td>800.0</td>\n",
       "    </tr>\n",
       "    <tr>\n",
       "      <th>5</th>\n",
       "      <td>4.0</td>\n",
       "      <td>325.000000</td>\n",
       "      <td>28.867513</td>\n",
       "      <td>300.0</td>\n",
       "      <td>300.0</td>\n",
       "      <td>325.0</td>\n",
       "      <td>350.00</td>\n",
       "      <td>350.0</td>\n",
       "    </tr>\n",
       "    <tr>\n",
       "      <th>6</th>\n",
       "      <td>2.0</td>\n",
       "      <td>550.000000</td>\n",
       "      <td>0.000000</td>\n",
       "      <td>550.0</td>\n",
       "      <td>550.0</td>\n",
       "      <td>550.0</td>\n",
       "      <td>550.00</td>\n",
       "      <td>550.0</td>\n",
       "    </tr>\n",
       "  </tbody>\n",
       "</table>\n",
       "</div>"
      ],
      "text/plain": [
       "        price                                                               \n",
       "        count        mean         std    min    25%     50%      75%     max\n",
       "bedroom                                                                     \n",
       "1        62.0  882.967742  445.457987  300.0  612.5   795.0   943.75  2400.0\n",
       "2        12.0  999.833333  376.838724  420.0  700.0  1089.5  1300.00  1400.0\n",
       "4         4.0  650.000000  173.205081  500.0  500.0   650.0   800.00   800.0\n",
       "5         4.0  325.000000   28.867513  300.0  300.0   325.0   350.00   350.0\n",
       "6         2.0  550.000000    0.000000  550.0  550.0   550.0   550.00   550.0"
      ]
     },
     "execution_count": 44,
     "metadata": {},
     "output_type": "execute_result"
    }
   ],
   "source": [
    "df.groupby('isLookingFor').get_group(False).groupby('bedroom').describe()"
   ]
  },
  {
   "cell_type": "code",
   "execution_count": 21,
   "id": "600ddb79",
   "metadata": {
    "scrolled": true
   },
   "outputs": [
    {
     "data": {
      "text/html": [
       "<div>\n",
       "<style scoped>\n",
       "    .dataframe tbody tr th:only-of-type {\n",
       "        vertical-align: middle;\n",
       "    }\n",
       "\n",
       "    .dataframe tbody tr th {\n",
       "        vertical-align: top;\n",
       "    }\n",
       "\n",
       "    .dataframe thead th {\n",
       "        text-align: right;\n",
       "    }\n",
       "</style>\n",
       "<table border=\"1\" class=\"dataframe\">\n",
       "  <thead>\n",
       "    <tr style=\"text-align: right;\">\n",
       "      <th></th>\n",
       "      <th>price</th>\n",
       "      <th>bedroom</th>\n",
       "      <th>isLookingFor</th>\n",
       "    </tr>\n",
       "  </thead>\n",
       "  <tbody>\n",
       "    <tr>\n",
       "      <th>0</th>\n",
       "      <td>1300</td>\n",
       "      <td>2</td>\n",
       "      <td>False</td>\n",
       "    </tr>\n",
       "    <tr>\n",
       "      <th>11</th>\n",
       "      <td>420</td>\n",
       "      <td>2</td>\n",
       "      <td>False</td>\n",
       "    </tr>\n",
       "    <tr>\n",
       "      <th>21</th>\n",
       "      <td>1300</td>\n",
       "      <td>2</td>\n",
       "      <td>False</td>\n",
       "    </tr>\n",
       "    <tr>\n",
       "      <th>73</th>\n",
       "      <td>1400</td>\n",
       "      <td>2</td>\n",
       "      <td>False</td>\n",
       "    </tr>\n",
       "    <tr>\n",
       "      <th>80</th>\n",
       "      <td>879</td>\n",
       "      <td>2</td>\n",
       "      <td>False</td>\n",
       "    </tr>\n",
       "    <tr>\n",
       "      <th>85</th>\n",
       "      <td>1050</td>\n",
       "      <td>2</td>\n",
       "      <td>True</td>\n",
       "    </tr>\n",
       "    <tr>\n",
       "      <th>89</th>\n",
       "      <td>700</td>\n",
       "      <td>2</td>\n",
       "      <td>False</td>\n",
       "    </tr>\n",
       "    <tr>\n",
       "      <th>99</th>\n",
       "      <td>1200</td>\n",
       "      <td>2</td>\n",
       "      <td>True</td>\n",
       "    </tr>\n",
       "    <tr>\n",
       "      <th>111</th>\n",
       "      <td>1000</td>\n",
       "      <td>2</td>\n",
       "      <td>True</td>\n",
       "    </tr>\n",
       "    <tr>\n",
       "      <th>123</th>\n",
       "      <td>700</td>\n",
       "      <td>2</td>\n",
       "      <td>True</td>\n",
       "    </tr>\n",
       "    <tr>\n",
       "      <th>124</th>\n",
       "      <td>1000</td>\n",
       "      <td>2</td>\n",
       "      <td>True</td>\n",
       "    </tr>\n",
       "    <tr>\n",
       "      <th>127</th>\n",
       "      <td>850</td>\n",
       "      <td>2</td>\n",
       "      <td>True</td>\n",
       "    </tr>\n",
       "    <tr>\n",
       "      <th>168</th>\n",
       "      <td>1000</td>\n",
       "      <td>2</td>\n",
       "      <td>True</td>\n",
       "    </tr>\n",
       "    <tr>\n",
       "      <th>169</th>\n",
       "      <td>1200</td>\n",
       "      <td>2</td>\n",
       "      <td>True</td>\n",
       "    </tr>\n",
       "  </tbody>\n",
       "</table>\n",
       "</div>"
      ],
      "text/plain": [
       "     price  bedroom  isLookingFor\n",
       "0     1300        2         False\n",
       "11     420        2         False\n",
       "21    1300        2         False\n",
       "73    1400        2         False\n",
       "80     879        2         False\n",
       "85    1050        2          True\n",
       "89     700        2         False\n",
       "99    1200        2          True\n",
       "111   1000        2          True\n",
       "123    700        2          True\n",
       "124   1000        2          True\n",
       "127    850        2          True\n",
       "168   1000        2          True\n",
       "169   1200        2          True"
      ]
     },
     "execution_count": 21,
     "metadata": {},
     "output_type": "execute_result"
    }
   ],
   "source": [
    "df.groupby('bedroom').get_group(2)"
   ]
  },
  {
   "cell_type": "code",
   "execution_count": 45,
   "id": "123e3793",
   "metadata": {
    "scrolled": true
   },
   "outputs": [
    {
     "data": {
      "text/html": [
       "<div>\n",
       "<style scoped>\n",
       "    .dataframe tbody tr th:only-of-type {\n",
       "        vertical-align: middle;\n",
       "    }\n",
       "\n",
       "    .dataframe tbody tr th {\n",
       "        vertical-align: top;\n",
       "    }\n",
       "\n",
       "    .dataframe thead tr th {\n",
       "        text-align: left;\n",
       "    }\n",
       "\n",
       "    .dataframe thead tr:last-of-type th {\n",
       "        text-align: right;\n",
       "    }\n",
       "</style>\n",
       "<table border=\"1\" class=\"dataframe\">\n",
       "  <thead>\n",
       "    <tr>\n",
       "      <th></th>\n",
       "      <th colspan=\"8\" halign=\"left\">price</th>\n",
       "    </tr>\n",
       "    <tr>\n",
       "      <th></th>\n",
       "      <th>count</th>\n",
       "      <th>mean</th>\n",
       "      <th>std</th>\n",
       "      <th>min</th>\n",
       "      <th>25%</th>\n",
       "      <th>50%</th>\n",
       "      <th>75%</th>\n",
       "      <th>max</th>\n",
       "    </tr>\n",
       "    <tr>\n",
       "      <th>bedroom</th>\n",
       "      <th></th>\n",
       "      <th></th>\n",
       "      <th></th>\n",
       "      <th></th>\n",
       "      <th></th>\n",
       "      <th></th>\n",
       "      <th></th>\n",
       "      <th></th>\n",
       "    </tr>\n",
       "  </thead>\n",
       "  <tbody>\n",
       "    <tr>\n",
       "      <th>1</th>\n",
       "      <td>176.0</td>\n",
       "      <td>922.022727</td>\n",
       "      <td>419.318358</td>\n",
       "      <td>300.0</td>\n",
       "      <td>700.0</td>\n",
       "      <td>800.0</td>\n",
       "      <td>1000.00</td>\n",
       "      <td>2500.0</td>\n",
       "    </tr>\n",
       "    <tr>\n",
       "      <th>2</th>\n",
       "      <td>28.0</td>\n",
       "      <td>999.928571</td>\n",
       "      <td>268.885344</td>\n",
       "      <td>420.0</td>\n",
       "      <td>850.0</td>\n",
       "      <td>1000.0</td>\n",
       "      <td>1200.00</td>\n",
       "      <td>1400.0</td>\n",
       "    </tr>\n",
       "    <tr>\n",
       "      <th>4</th>\n",
       "      <td>6.0</td>\n",
       "      <td>708.333333</td>\n",
       "      <td>161.761141</td>\n",
       "      <td>500.0</td>\n",
       "      <td>575.0</td>\n",
       "      <td>800.0</td>\n",
       "      <td>818.75</td>\n",
       "      <td>825.0</td>\n",
       "    </tr>\n",
       "    <tr>\n",
       "      <th>5</th>\n",
       "      <td>6.0</td>\n",
       "      <td>483.333333</td>\n",
       "      <td>246.306043</td>\n",
       "      <td>300.0</td>\n",
       "      <td>312.5</td>\n",
       "      <td>350.0</td>\n",
       "      <td>687.50</td>\n",
       "      <td>800.0</td>\n",
       "    </tr>\n",
       "    <tr>\n",
       "      <th>6</th>\n",
       "      <td>2.0</td>\n",
       "      <td>550.000000</td>\n",
       "      <td>0.000000</td>\n",
       "      <td>550.0</td>\n",
       "      <td>550.0</td>\n",
       "      <td>550.0</td>\n",
       "      <td>550.00</td>\n",
       "      <td>550.0</td>\n",
       "    </tr>\n",
       "  </tbody>\n",
       "</table>\n",
       "</div>"
      ],
      "text/plain": [
       "         price                                                               \n",
       "         count        mean         std    min    25%     50%      75%     max\n",
       "bedroom                                                                      \n",
       "1        176.0  922.022727  419.318358  300.0  700.0   800.0  1000.00  2500.0\n",
       "2         28.0  999.928571  268.885344  420.0  850.0  1000.0  1200.00  1400.0\n",
       "4          6.0  708.333333  161.761141  500.0  575.0   800.0   818.75   825.0\n",
       "5          6.0  483.333333  246.306043  300.0  312.5   350.0   687.50   800.0\n",
       "6          2.0  550.000000    0.000000  550.0  550.0   550.0   550.00   550.0"
      ]
     },
     "execution_count": 45,
     "metadata": {},
     "output_type": "execute_result"
    }
   ],
   "source": [
    "# by_bedroom = df.groupby('bedroom')\n",
    "df.groupby('bedroom').describe()"
   ]
  },
  {
   "cell_type": "code",
   "execution_count": 46,
   "id": "755ab9ea",
   "metadata": {
    "scrolled": true
   },
   "outputs": [
    {
     "data": {
      "text/html": [
       "<div>\n",
       "<style scoped>\n",
       "    .dataframe tbody tr th:only-of-type {\n",
       "        vertical-align: middle;\n",
       "    }\n",
       "\n",
       "    .dataframe tbody tr th {\n",
       "        vertical-align: top;\n",
       "    }\n",
       "\n",
       "    .dataframe thead tr th {\n",
       "        text-align: left;\n",
       "    }\n",
       "\n",
       "    .dataframe thead tr:last-of-type th {\n",
       "        text-align: right;\n",
       "    }\n",
       "</style>\n",
       "<table border=\"1\" class=\"dataframe\">\n",
       "  <thead>\n",
       "    <tr>\n",
       "      <th></th>\n",
       "      <th colspan=\"8\" halign=\"left\">price</th>\n",
       "    </tr>\n",
       "    <tr>\n",
       "      <th></th>\n",
       "      <th>count</th>\n",
       "      <th>mean</th>\n",
       "      <th>std</th>\n",
       "      <th>min</th>\n",
       "      <th>25%</th>\n",
       "      <th>50%</th>\n",
       "      <th>75%</th>\n",
       "      <th>max</th>\n",
       "    </tr>\n",
       "    <tr>\n",
       "      <th>bedroom</th>\n",
       "      <th></th>\n",
       "      <th></th>\n",
       "      <th></th>\n",
       "      <th></th>\n",
       "      <th></th>\n",
       "      <th></th>\n",
       "      <th></th>\n",
       "      <th></th>\n",
       "    </tr>\n",
       "  </thead>\n",
       "  <tbody>\n",
       "    <tr>\n",
       "      <th>1</th>\n",
       "      <td>176.0</td>\n",
       "      <td>922.022727</td>\n",
       "      <td>419.318358</td>\n",
       "      <td>300.0</td>\n",
       "      <td>700.0</td>\n",
       "      <td>800.0</td>\n",
       "      <td>1000.00</td>\n",
       "      <td>2500.0</td>\n",
       "    </tr>\n",
       "    <tr>\n",
       "      <th>2</th>\n",
       "      <td>28.0</td>\n",
       "      <td>999.928571</td>\n",
       "      <td>268.885344</td>\n",
       "      <td>420.0</td>\n",
       "      <td>850.0</td>\n",
       "      <td>1000.0</td>\n",
       "      <td>1200.00</td>\n",
       "      <td>1400.0</td>\n",
       "    </tr>\n",
       "    <tr>\n",
       "      <th>4</th>\n",
       "      <td>6.0</td>\n",
       "      <td>708.333333</td>\n",
       "      <td>161.761141</td>\n",
       "      <td>500.0</td>\n",
       "      <td>575.0</td>\n",
       "      <td>800.0</td>\n",
       "      <td>818.75</td>\n",
       "      <td>825.0</td>\n",
       "    </tr>\n",
       "    <tr>\n",
       "      <th>5</th>\n",
       "      <td>6.0</td>\n",
       "      <td>483.333333</td>\n",
       "      <td>246.306043</td>\n",
       "      <td>300.0</td>\n",
       "      <td>312.5</td>\n",
       "      <td>350.0</td>\n",
       "      <td>687.50</td>\n",
       "      <td>800.0</td>\n",
       "    </tr>\n",
       "    <tr>\n",
       "      <th>6</th>\n",
       "      <td>2.0</td>\n",
       "      <td>550.000000</td>\n",
       "      <td>0.000000</td>\n",
       "      <td>550.0</td>\n",
       "      <td>550.0</td>\n",
       "      <td>550.0</td>\n",
       "      <td>550.00</td>\n",
       "      <td>550.0</td>\n",
       "    </tr>\n",
       "  </tbody>\n",
       "</table>\n",
       "</div>"
      ],
      "text/plain": [
       "         price                                                               \n",
       "         count        mean         std    min    25%     50%      75%     max\n",
       "bedroom                                                                      \n",
       "1        176.0  922.022727  419.318358  300.0  700.0   800.0  1000.00  2500.0\n",
       "2         28.0  999.928571  268.885344  420.0  850.0  1000.0  1200.00  1400.0\n",
       "4          6.0  708.333333  161.761141  500.0  575.0   800.0   818.75   825.0\n",
       "5          6.0  483.333333  246.306043  300.0  312.5   350.0   687.50   800.0\n",
       "6          2.0  550.000000    0.000000  550.0  550.0   550.0   550.00   550.0"
      ]
     },
     "execution_count": 46,
     "metadata": {},
     "output_type": "execute_result"
    }
   ],
   "source": [
    "df.groupby('bedroom').describe()"
   ]
  },
  {
   "cell_type": "code",
   "execution_count": 47,
   "id": "38fae848",
   "metadata": {},
   "outputs": [],
   "source": [
    "by_bedroom = df.groupby('bedroom')"
   ]
  },
  {
   "cell_type": "code",
   "execution_count": 48,
   "id": "3b4d27d9",
   "metadata": {},
   "outputs": [],
   "source": [
    "bedroom_labels = []\n",
    "bedroom_values = []\n",
    "\n",
    "price_by_bedroom = {}"
   ]
  },
  {
   "cell_type": "code",
   "execution_count": 50,
   "id": "e88a520b",
   "metadata": {
    "scrolled": true
   },
   "outputs": [],
   "source": [
    "for idx, frame in by_bedroom:\n",
    "    bedroom_labels.append(idx)\n",
    "    bedroom_values.append(by_bedroom.size()[idx])\n",
    "    \n",
    "    price_by_bedroom[idx] = by_bedroom.mean().loc[idx, 'price']\n",
    "#     print(f\"{by_bedroom.get_group(idx)}\")\n",
    "#     print(\"------------------------\")"
   ]
  },
  {
   "cell_type": "code",
   "execution_count": 51,
   "id": "bfe88d52",
   "metadata": {
    "scrolled": true
   },
   "outputs": [
    {
     "data": {
      "text/plain": [
       "{1: 922.0227272727273,\n",
       " 2: 999.9285714285714,\n",
       " 4: 708.3333333333334,\n",
       " 5: 483.3333333333333,\n",
       " 6: 550.0}"
      ]
     },
     "execution_count": 51,
     "metadata": {},
     "output_type": "execute_result"
    }
   ],
   "source": [
    "price_by_bedroom"
   ]
  },
  {
   "cell_type": "code",
   "execution_count": 52,
   "id": "5210fc7a",
   "metadata": {
    "scrolled": true
   },
   "outputs": [
    {
     "data": {
      "image/png": "[encoded data removed]",
      "text/plain": [
       "<Figure size 432x288 with 1 Axes>"
      ]
     },
     "metadata": {},
     "output_type": "display_data"
    }
   ],
   "source": [
    "colors = ['#ffadad', '#ffd6a5', '#fdffb6', '#caffbf', '#fdffb6']\n",
    "explode = [0.03] * 5\n",
    "wedgeprops = {'width': 0.6, 'edgecolor':'w', 'linewidth':2}\n",
    "plt.pie(bedroom_values, labels=bedroom_labels, colors=colors, explode=explode, wedgeprops=wedgeprops)\n",
    "plt.title(\"Number of Bedrooms\")\n",
    "plt.show()"
   ]
  },
  {
   "cell_type": "code",
   "execution_count": 58,
   "id": "324d06bb",
   "metadata": {},
   "outputs": [
    {
     "data": {
      "image/png": "[encoded data removed]",
      "text/plain": [
       "<Figure size 432x288 with 1 Axes>"
      ]
     },
     "metadata": {
      "needs_background": "light"
     },
     "output_type": "display_data"
    }
   ],
   "source": [
    "plt.bar(price_by_bedroom.keys(), price_by_bedroom.values())\n",
    "plt.ylim(0, 1400)\n",
    "plt.title(\"Price by Number of bedrooms\")\n",
    "plt.xlabel('Number of bedrooms')\n",
    "plt.ylabel('Price')\n",
    "plt.show()"
   ]
  },
  {
   "cell_type": "markdown",
   "id": "d676ebac",
   "metadata": {},
   "source": [
    "#### other things to consider: \n",
    "- number of bedrooms\n",
    "- number of washrooms \n",
    "- number of roommates\n",
    "- location (how far from uw?)\n"
   ]
  }
 ],
 "metadata": {
  "kernelspec": {
   "display_name": "Python 3 (ipykernel)",
   "language": "python",
   "name": "python3"
  },
  "language_info": {
   "codemirror_mode": {
    "name": "ipython",
    "version": 3
   },
   "file_extension": ".py",
   "mimetype": "text/x-python",
   "name": "python",
   "nbconvert_exporter": "python",
   "pygments_lexer": "ipython3",
   "version": "3.9.12"
  }
 },
 "nbformat": 4,
 "nbformat_minor": 5
}
