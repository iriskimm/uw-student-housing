{
 "cells": [
  {
   "cell_type": "code",
   "execution_count": 17,
   "id": "07cea26c",
   "metadata": {},
   "outputs": [],
   "source": [
    "import pandas as pd\n",
    "import re"
   ]
  },
  {
   "cell_type": "code",
   "execution_count": 3,
   "id": "14e6f546",
   "metadata": {},
   "outputs": [],
   "source": [
    "def get_bedrooms(my_str):\n",
    "    d1 = re.search('([^ \\r\\n]+) beds?', my_str, re.IGNORECASE)\n",
    "    d2 = re.search('([^ \\r\\n]+) bedrooms?', my_str, re.IGNORECASE)\n",
    "    if d1:\n",
    "        beds = d1.group(0)\n",
    "    elif d2:\n",
    "        beds = d2.group(0)\n",
    "    else:\n",
    "        beds = 1 # one bedroom by default if not specified\n",
    "    return beds"
   ]
  },
  {
   "cell_type": "code",
   "execution_count": 4,
   "id": "5a2fa832",
   "metadata": {},
   "outputs": [],
   "source": [
    "def is_looking(my_str):\n",
    "    my_str = my_str.lower()\n",
    "    if 'looking' in my_str:\n",
    "        return True\n",
    "    elif 'available' or 'offer' in my_str:\n",
    "        return False\n",
    "    else:\n",
    "        return None"
   ]
  },
  {
   "cell_type": "code",
   "execution_count": 6,
   "id": "92e01013",
   "metadata": {},
   "outputs": [],
   "source": [
    "price_list = []\n",
    "bedrooms_list = []\n",
    "isLookingFor_list = []"
   ]
  },
  {
   "cell_type": "code",
   "execution_count": 14,
   "id": "6466c8e7",
   "metadata": {},
   "outputs": [
    {
     "ename": "AttributeError",
     "evalue": "module 'facebook_scraper' has no attribute 'ipynb'",
     "output_type": "error",
     "traceback": [
      "\u001b[0;31m---------------------------------------------------------------------------\u001b[0m",
      "\u001b[0;31mAttributeError\u001b[0m                            Traceback (most recent call last)",
      "Input \u001b[0;32mIn [14]\u001b[0m, in \u001b[0;36m<cell line: 1>\u001b[0;34m()\u001b[0m\n\u001b[0;32m----> 1\u001b[0m all_posts \u001b[38;5;241m=\u001b[39m \u001b[43mfacebook_scraper\u001b[49m\u001b[38;5;241;43m.\u001b[39;49m\u001b[43mipynb\u001b[49m\u001b[38;5;241m.\u001b[39mall_posts\n",
      "\u001b[0;31mAttributeError\u001b[0m: module 'facebook_scraper' has no attribute 'ipynb'"
     ]
    }
   ],
   "source": [
    "%store -r all_posts"
   ]
  },
  {
   "cell_type": "code",
   "execution_count": 7,
   "id": "882f0d97",
   "metadata": {},
   "outputs": [
    {
     "ename": "NameError",
     "evalue": "name 'all_posts' is not defined",
     "output_type": "error",
     "traceback": [
      "\u001b[0;31m---------------------------------------------------------------------------\u001b[0m",
      "\u001b[0;31mNameError\u001b[0m                                 Traceback (most recent call last)",
      "Input \u001b[0;32mIn [7]\u001b[0m, in \u001b[0;36m<cell line: 1>\u001b[0;34m()\u001b[0m\n\u001b[0;32m----> 1\u001b[0m \u001b[38;5;28;01mfor\u001b[39;00m post \u001b[38;5;129;01min\u001b[39;00m \u001b[43mall_posts\u001b[49m: \n\u001b[1;32m      3\u001b[0m     price_text \u001b[38;5;241m=\u001b[39m post\u001b[38;5;241m.\u001b[39mfind(\u001b[38;5;124m'\u001b[39m\u001b[38;5;124mspan\u001b[39m\u001b[38;5;124m'\u001b[39m, attrs\u001b[38;5;241m=\u001b[39m{\u001b[38;5;124m'\u001b[39m\u001b[38;5;124mclass\u001b[39m\u001b[38;5;124m'\u001b[39m: \u001b[38;5;124m'\u001b[39m\u001b[38;5;124msqxagodl\u001b[39m\u001b[38;5;124m'\u001b[39m})\u001b[38;5;241m.\u001b[39mfind(\u001b[38;5;124m'\u001b[39m\u001b[38;5;124mdiv\u001b[39m\u001b[38;5;124m'\u001b[39m)\u001b[38;5;241m.\u001b[39mgetText()\n\u001b[1;32m      4\u001b[0m     \u001b[38;5;28;01mtry\u001b[39;00m: \n",
      "\u001b[0;31mNameError\u001b[0m: name 'all_posts' is not defined"
     ]
    }
   ],
   "source": [
    "for post in all_posts: \n",
    "    \n",
    "    price_text = post.find('span', attrs={'class': 'sqxagodl'}).find('div').getText()\n",
    "    try: \n",
    "        price = ''.join([n for n in price_text.split()[0] if n.isdigit()])\n",
    "    except: \n",
    "        price = 0\n",
    "    \n",
    "    message_text = post.find('div', attrs={'data-ad-comet-preview':'message'})\n",
    "    try:\n",
    "        message = str(message_text.getText())\n",
    "    except:\n",
    "        message = ''\n",
    "\n",
    "    bedroom_text = get_bedrooms(message)\n",
    "    try: \n",
    "        bedroom = ''.join([n for n in str(bedroom_text).split()[0] if n.isdigit()])\n",
    "    except:\n",
    "        bedroom = 1 # 1 bedroom by default if not specified\n",
    "\n",
    "    if int(price) >= 1600: # if price is above 1600, assume that it's total price for the entire unit\n",
    "        price = int(price) // int(bedroom)\n",
    "        \n",
    "    price_list.append(int(price))\n",
    "    bedrooms_list.append(int(bedroom))\n",
    "    isLookingFor_list.append(is_looking(message))"
   ]
  },
  {
   "cell_type": "code",
   "execution_count": null,
   "id": "48d9d692",
   "metadata": {},
   "outputs": [],
   "source": []
  }
 ],
 "metadata": {
  "kernelspec": {
   "display_name": "Python 3 (ipykernel)",
   "language": "python",
   "name": "python3"
  },
  "language_info": {
   "codemirror_mode": {
    "name": "ipython",
    "version": 3
   },
   "file_extension": ".py",
   "mimetype": "text/x-python",
   "name": "python",
   "nbconvert_exporter": "python",
   "pygments_lexer": "ipython3",
   "version": "3.9.12"
  }
 },
 "nbformat": 4,
 "nbformat_minor": 5
}
